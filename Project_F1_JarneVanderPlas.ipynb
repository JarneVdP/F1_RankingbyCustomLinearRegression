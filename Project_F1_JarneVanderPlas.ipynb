{
 "cells": [
  {
   "cell_type": "markdown",
   "source": [
    "# F1: Compute the F1 ranking"
   ],
   "metadata": {
    "collapsed": false,
    "pycharm": {
     "name": "#%% md\n"
    }
   }
  },
  {
   "cell_type": "markdown",
   "source": [
    "In this notebook, I will try to calculate the ranking of an F1 race based on results from earlier seasons. I will do this using this dataset [formula-1-world-championship-1950-2020](https://www.kaggle.com/datasets/rohanrao/formula-1-world-championship-1950-2020)\n",
    "What makes this an interesting subject is that in 2022, the biggest rule changes in a couple of years happened. The dataset used here is from 1950-2022 but we will only use the part from 2011 to 2021 to train and 2022 to test the model.\n",
    "In the model we will use the following features: position after the qualifications, the number of pitstops in the race and the constructors position. The constructors position is the sum of both the drivers of the team."
   ],
   "metadata": {
    "collapsed": false,
    "pycharm": {
     "name": "#%% md\n"
    }
   }
  },
  {
   "cell_type": "markdown",
   "source": [
    "First, I will import the data and create a dataframe using the kaggle API. I will also download the kaggle library if not installed yet. Lastly, I will unzip the file"
   ],
   "metadata": {
    "collapsed": false,
    "pycharm": {
     "name": "#%% md\n"
    }
   }
  },
  {
   "cell_type": "code",
   "execution_count": 1,
   "outputs": [
    {
     "data": {
      "text/plain": "'\\n#import the data using the kaggle API\\nimport os\\nos.environ[\\'KAGGLE_USERNAME\\'] = \\'name\\'\\nos.environ[\\'KAGGLE_KEY\\'] = \\'key\\'\\n\\n#install the kaggle library if not installed yet\\nimport pip\\ndef install(package):\\n    if hasattr(pip, \\'main\\'):\\n        pip.main([\\'install\\', package])\\n    else:\\n        pip._internal.main([\\'install\\', package])\\n\\ninstall(\\'kaggle\\')\\nfrom kaggle.api.kaggle_api_extended import KaggleApi\\napi = KaggleApi()\\napi.authenticate()\\n\\napi.dataset_download_files(\\'rohanrao/formula-1-world-championship-1950-2020\\', path=\".\")\\n\\n#unzip the file\\nimport zipfile\\nwith zipfile.ZipFile(\\'formula-1-world-championship-1950-2020.zip\\', \\'r\\') as zip_ref:\\n    zip_ref.extractall(\\'formula-1-world-championship-1950-2020\\')\\n'"
     },
     "execution_count": 1,
     "metadata": {},
     "output_type": "execute_result"
    }
   ],
   "source": [
    "# To run without downloading the folder, uncomment the following lines and fill in your kaggle_username and kaggle_key\n",
    "\"\"\"\n",
    "#import the data using the kaggle API\n",
    "import os\n",
    "os.environ['KAGGLE_USERNAME'] = 'name'\n",
    "os.environ['KAGGLE_KEY'] = 'key'\n",
    "\n",
    "#install the kaggle library if not installed yet\n",
    "import pip\n",
    "def install(package):\n",
    "    if hasattr(pip, 'main'):\n",
    "        pip.main(['install', package])\n",
    "    else:\n",
    "        pip._internal.main(['install', package])\n",
    "\n",
    "install('kaggle')\n",
    "from kaggle.api.kaggle_api_extended import KaggleApi\n",
    "api = KaggleApi()\n",
    "api.authenticate()\n",
    "\n",
    "api.dataset_download_files('rohanrao/formula-1-world-championship-1950-2020', path=\".\")\n",
    "\n",
    "#unzip the file\n",
    "import zipfile\n",
    "with zipfile.ZipFile('formula-1-world-championship-1950-2020.zip', 'r') as zip_ref:\n",
    "    zip_ref.extractall('formula-1-world-championship-1950-2020')\n",
    "\"\"\""
   ],
   "metadata": {
    "collapsed": false,
    "pycharm": {
     "name": "#%%\n"
    }
   }
  },
  {
   "cell_type": "markdown",
   "source": [
    "Now that the dataset has been downloaded, we can start using it."
   ],
   "metadata": {
    "collapsed": false,
    "pycharm": {
     "name": "#%% md\n"
    }
   }
  },
  {
   "cell_type": "markdown",
   "source": [
    "## Files\n"
   ],
   "metadata": {
    "collapsed": false,
    "pycharm": {
     "name": "#%% md\n"
    }
   }
  },
  {
   "cell_type": "code",
   "execution_count": 2,
   "outputs": [],
   "source": [
    "import pandas as pd\n",
    "pd.set_option('mode.chained_assignment', None)\n",
    "def openFile(file):\n",
    "    df = pd.read_csv(file)\n",
    "    return df"
   ],
   "metadata": {
    "collapsed": false,
    "pycharm": {
     "name": "#%%\n"
    }
   }
  },
  {
   "cell_type": "code",
   "execution_count": 3,
   "outputs": [],
   "source": [
    "file_name_qualifying = 'formula-1-world-championship-1950-2020/qualifying.csv'\n",
    "qualifying = openFile(file_name_qualifying)\n",
    "file_name_pitstops = 'formula-1-world-championship-1950-2020/pit_stops.csv'\n",
    "pitstops = openFile(file_name_pitstops)\n",
    "file_name_constructors_standing = 'formula-1-world-championship-1950-2020/constructor_standings.csv'\n",
    "constructorsstanding = openFile(file_name_constructors_standing)\n",
    "file_name_driverstanding = 'formula-1-world-championship-1950-2020/driver_standings.csv'\n",
    "driverstanding = openFile(file_name_driverstanding)\n",
    "file_name_races = 'formula-1-world-championship-1950-2020/races.csv'\n",
    "races = openFile(file_name_races)\n",
    "file_name_driver = 'formula-1-world-championship-1950-2020/drivers.csv'\n",
    "drivers = openFile(file_name_driver)\n",
    "file_name_results = 'formula-1-world-championship-1950-2020/results.csv'\n",
    "result = openFile(file_name_results)"
   ],
   "metadata": {
    "collapsed": false,
    "pycharm": {
     "name": "#%%\n"
    }
   }
  },
  {
   "cell_type": "markdown",
   "source": [
    "## Data\n",
    "The data used will start in 2011. This is because the pitstop data only starts from raceid 841, which is in 2011. There are still over 200 races in the dataset and per race 20 drivers. So there are more than 4000 samples.\n",
    "Also, data from 1950 is less reliable so a larger dataset is not directly a better dataset.\n",
    "In the code cell below, you can see that pitstops starts at raceid 841."
   ],
   "metadata": {
    "collapsed": false,
    "pycharm": {
     "name": "#%% md\n"
    }
   }
  },
  {
   "cell_type": "code",
   "execution_count": 4,
   "outputs": [
    {
     "data": {
      "text/plain": "   raceId  driverId  stop  lap      time duration  milliseconds\n0     841       153     1    1  17:05:23   26.898         26898\n1     841        30     1    1  17:05:52   25.021         25021\n2     841        17     1   11  17:20:48   23.426         23426\n3     841         4     1   12  17:22:34   23.251         23251\n4     841        13     1   13  17:24:10   23.842         23842",
      "text/html": "<div>\n<style scoped>\n    .dataframe tbody tr th:only-of-type {\n        vertical-align: middle;\n    }\n\n    .dataframe tbody tr th {\n        vertical-align: top;\n    }\n\n    .dataframe thead th {\n        text-align: right;\n    }\n</style>\n<table border=\"1\" class=\"dataframe\">\n  <thead>\n    <tr style=\"text-align: right;\">\n      <th></th>\n      <th>raceId</th>\n      <th>driverId</th>\n      <th>stop</th>\n      <th>lap</th>\n      <th>time</th>\n      <th>duration</th>\n      <th>milliseconds</th>\n    </tr>\n  </thead>\n  <tbody>\n    <tr>\n      <th>0</th>\n      <td>841</td>\n      <td>153</td>\n      <td>1</td>\n      <td>1</td>\n      <td>17:05:23</td>\n      <td>26.898</td>\n      <td>26898</td>\n    </tr>\n    <tr>\n      <th>1</th>\n      <td>841</td>\n      <td>30</td>\n      <td>1</td>\n      <td>1</td>\n      <td>17:05:52</td>\n      <td>25.021</td>\n      <td>25021</td>\n    </tr>\n    <tr>\n      <th>2</th>\n      <td>841</td>\n      <td>17</td>\n      <td>1</td>\n      <td>11</td>\n      <td>17:20:48</td>\n      <td>23.426</td>\n      <td>23426</td>\n    </tr>\n    <tr>\n      <th>3</th>\n      <td>841</td>\n      <td>4</td>\n      <td>1</td>\n      <td>12</td>\n      <td>17:22:34</td>\n      <td>23.251</td>\n      <td>23251</td>\n    </tr>\n    <tr>\n      <th>4</th>\n      <td>841</td>\n      <td>13</td>\n      <td>1</td>\n      <td>13</td>\n      <td>17:24:10</td>\n      <td>23.842</td>\n      <td>23842</td>\n    </tr>\n  </tbody>\n</table>\n</div>"
     },
     "execution_count": 4,
     "metadata": {},
     "output_type": "execute_result"
    }
   ],
   "source": [
    "pitstops.head()"
   ],
   "metadata": {
    "collapsed": false,
    "pycharm": {
     "name": "#%%\n"
    }
   }
  },
  {
   "cell_type": "markdown",
   "source": [],
   "metadata": {
    "collapsed": false,
    "pycharm": {
     "name": "#%% md\n"
    }
   }
  },
  {
   "cell_type": "code",
   "execution_count": 5,
   "outputs": [
    {
     "data": {
      "text/plain": "   qualifyId  raceId  driverId  constructorId  number  position        q1  \\\n0          1      18         1              1      22         1  1:26.572   \n1          2      18         9              2       4         2  1:26.103   \n2          3      18         5              1      23         3  1:25.664   \n3          4      18        13              6       2         4  1:25.994   \n4          5      18         2              2       3         5  1:25.960   \n\n         q2        q3  \n0  1:25.187  1:26.714  \n1  1:25.315  1:26.869  \n2  1:25.452  1:27.079  \n3  1:25.691  1:27.178  \n4  1:25.518  1:27.236  ",
      "text/html": "<div>\n<style scoped>\n    .dataframe tbody tr th:only-of-type {\n        vertical-align: middle;\n    }\n\n    .dataframe tbody tr th {\n        vertical-align: top;\n    }\n\n    .dataframe thead th {\n        text-align: right;\n    }\n</style>\n<table border=\"1\" class=\"dataframe\">\n  <thead>\n    <tr style=\"text-align: right;\">\n      <th></th>\n      <th>qualifyId</th>\n      <th>raceId</th>\n      <th>driverId</th>\n      <th>constructorId</th>\n      <th>number</th>\n      <th>position</th>\n      <th>q1</th>\n      <th>q2</th>\n      <th>q3</th>\n    </tr>\n  </thead>\n  <tbody>\n    <tr>\n      <th>0</th>\n      <td>1</td>\n      <td>18</td>\n      <td>1</td>\n      <td>1</td>\n      <td>22</td>\n      <td>1</td>\n      <td>1:26.572</td>\n      <td>1:25.187</td>\n      <td>1:26.714</td>\n    </tr>\n    <tr>\n      <th>1</th>\n      <td>2</td>\n      <td>18</td>\n      <td>9</td>\n      <td>2</td>\n      <td>4</td>\n      <td>2</td>\n      <td>1:26.103</td>\n      <td>1:25.315</td>\n      <td>1:26.869</td>\n    </tr>\n    <tr>\n      <th>2</th>\n      <td>3</td>\n      <td>18</td>\n      <td>5</td>\n      <td>1</td>\n      <td>23</td>\n      <td>3</td>\n      <td>1:25.664</td>\n      <td>1:25.452</td>\n      <td>1:27.079</td>\n    </tr>\n    <tr>\n      <th>3</th>\n      <td>4</td>\n      <td>18</td>\n      <td>13</td>\n      <td>6</td>\n      <td>2</td>\n      <td>4</td>\n      <td>1:25.994</td>\n      <td>1:25.691</td>\n      <td>1:27.178</td>\n    </tr>\n    <tr>\n      <th>4</th>\n      <td>5</td>\n      <td>18</td>\n      <td>2</td>\n      <td>2</td>\n      <td>3</td>\n      <td>5</td>\n      <td>1:25.960</td>\n      <td>1:25.518</td>\n      <td>1:27.236</td>\n    </tr>\n  </tbody>\n</table>\n</div>"
     },
     "execution_count": 5,
     "metadata": {},
     "output_type": "execute_result"
    }
   ],
   "source": [
    "qualifying.head()"
   ],
   "metadata": {
    "collapsed": false,
    "pycharm": {
     "name": "#%%\n"
    }
   }
  },
  {
   "cell_type": "markdown",
   "source": [
    "## Constructor position\n",
    "As earlier stated, the constructors position is the sum of both the drivers of the team. It is a good indicator of the reliability of the team. It is also a good indicator of the team's performance overall.\n"
   ],
   "metadata": {
    "collapsed": false,
    "pycharm": {
     "name": "#%% md\n"
    }
   }
  },
  {
   "cell_type": "code",
   "execution_count": 6,
   "outputs": [
    {
     "data": {
      "text/plain": "   constructorStandingsId  raceId  constructorId  points  position  \\\n0                       1      18              1    14.0         1   \n1                       2      18              2     8.0         3   \n2                       3      18              3     9.0         2   \n3                       4      18              4     5.0         4   \n4                       5      18              5     2.0         5   \n\n  positionText  wins  \n0            1     1  \n1            3     0  \n2            2     0  \n3            4     0  \n4            5     0  ",
      "text/html": "<div>\n<style scoped>\n    .dataframe tbody tr th:only-of-type {\n        vertical-align: middle;\n    }\n\n    .dataframe tbody tr th {\n        vertical-align: top;\n    }\n\n    .dataframe thead th {\n        text-align: right;\n    }\n</style>\n<table border=\"1\" class=\"dataframe\">\n  <thead>\n    <tr style=\"text-align: right;\">\n      <th></th>\n      <th>constructorStandingsId</th>\n      <th>raceId</th>\n      <th>constructorId</th>\n      <th>points</th>\n      <th>position</th>\n      <th>positionText</th>\n      <th>wins</th>\n    </tr>\n  </thead>\n  <tbody>\n    <tr>\n      <th>0</th>\n      <td>1</td>\n      <td>18</td>\n      <td>1</td>\n      <td>14.0</td>\n      <td>1</td>\n      <td>1</td>\n      <td>1</td>\n    </tr>\n    <tr>\n      <th>1</th>\n      <td>2</td>\n      <td>18</td>\n      <td>2</td>\n      <td>8.0</td>\n      <td>3</td>\n      <td>3</td>\n      <td>0</td>\n    </tr>\n    <tr>\n      <th>2</th>\n      <td>3</td>\n      <td>18</td>\n      <td>3</td>\n      <td>9.0</td>\n      <td>2</td>\n      <td>2</td>\n      <td>0</td>\n    </tr>\n    <tr>\n      <th>3</th>\n      <td>4</td>\n      <td>18</td>\n      <td>4</td>\n      <td>5.0</td>\n      <td>4</td>\n      <td>4</td>\n      <td>0</td>\n    </tr>\n    <tr>\n      <th>4</th>\n      <td>5</td>\n      <td>18</td>\n      <td>5</td>\n      <td>2.0</td>\n      <td>5</td>\n      <td>5</td>\n      <td>0</td>\n    </tr>\n  </tbody>\n</table>\n</div>"
     },
     "execution_count": 6,
     "metadata": {},
     "output_type": "execute_result"
    }
   ],
   "source": [
    "constructorsstanding.head()"
   ],
   "metadata": {
    "collapsed": false,
    "pycharm": {
     "name": "#%%\n"
    }
   }
  },
  {
   "cell_type": "markdown",
   "source": [
    "## Pitstops\n",
    "Each driver must finish the race on at least two different tyres. The different tyres are: soft, medium and hard, intermediate and wet. Intermediate and wet are if the track is wet or it is raining. The soft, medium and hard tyres are decided by Pirelli each race. They are compound 1, 2, 3, 4 or 5 (c1 - .. - c5). From these, three compunds are then chosen per race. When a driver finishes, he must have driven on at least two different compounds, otherwise he will be disqualified for that race. It follows that each driver must make at least one pit stop. For a more in depth explanation: [Wikipedia](https://en.wikipedia.org/wiki/Formula_One_tyres)"
   ],
   "metadata": {
    "collapsed": false,
    "pycharm": {
     "name": "#%% md\n"
    }
   }
  },
  {
   "cell_type": "code",
   "execution_count": 7,
   "outputs": [
    {
     "data": {
      "text/plain": "   raceId  driverId  stop  lap      time duration  milliseconds\n0     841       153     1    1  17:05:23   26.898         26898\n1     841        30     1    1  17:05:52   25.021         25021\n2     841        17     1   11  17:20:48   23.426         23426\n3     841         4     1   12  17:22:34   23.251         23251\n4     841        13     1   13  17:24:10   23.842         23842",
      "text/html": "<div>\n<style scoped>\n    .dataframe tbody tr th:only-of-type {\n        vertical-align: middle;\n    }\n\n    .dataframe tbody tr th {\n        vertical-align: top;\n    }\n\n    .dataframe thead th {\n        text-align: right;\n    }\n</style>\n<table border=\"1\" class=\"dataframe\">\n  <thead>\n    <tr style=\"text-align: right;\">\n      <th></th>\n      <th>raceId</th>\n      <th>driverId</th>\n      <th>stop</th>\n      <th>lap</th>\n      <th>time</th>\n      <th>duration</th>\n      <th>milliseconds</th>\n    </tr>\n  </thead>\n  <tbody>\n    <tr>\n      <th>0</th>\n      <td>841</td>\n      <td>153</td>\n      <td>1</td>\n      <td>1</td>\n      <td>17:05:23</td>\n      <td>26.898</td>\n      <td>26898</td>\n    </tr>\n    <tr>\n      <th>1</th>\n      <td>841</td>\n      <td>30</td>\n      <td>1</td>\n      <td>1</td>\n      <td>17:05:52</td>\n      <td>25.021</td>\n      <td>25021</td>\n    </tr>\n    <tr>\n      <th>2</th>\n      <td>841</td>\n      <td>17</td>\n      <td>1</td>\n      <td>11</td>\n      <td>17:20:48</td>\n      <td>23.426</td>\n      <td>23426</td>\n    </tr>\n    <tr>\n      <th>3</th>\n      <td>841</td>\n      <td>4</td>\n      <td>1</td>\n      <td>12</td>\n      <td>17:22:34</td>\n      <td>23.251</td>\n      <td>23251</td>\n    </tr>\n    <tr>\n      <th>4</th>\n      <td>841</td>\n      <td>13</td>\n      <td>1</td>\n      <td>13</td>\n      <td>17:24:10</td>\n      <td>23.842</td>\n      <td>23842</td>\n    </tr>\n  </tbody>\n</table>\n</div>"
     },
     "execution_count": 7,
     "metadata": {},
     "output_type": "execute_result"
    }
   ],
   "source": [
    "pitstops.head()"
   ],
   "metadata": {
    "collapsed": false,
    "pycharm": {
     "name": "#%%\n"
    }
   }
  },
  {
   "cell_type": "markdown",
   "source": [
    "## Pooling data\n",
    "To make it possible to combine and compare data from different files, I will pool the data."
   ],
   "metadata": {
    "collapsed": false,
    "pycharm": {
     "name": "#%% md\n"
    }
   }
  },
  {
   "cell_type": "code",
   "execution_count": 8,
   "outputs": [],
   "source": [
    "#calculate the amount of pitstops as the dataset gives us every time the driver made a pitstop. If we take the highest number for every driver, we get the amount of pitstops per driver.\n",
    "from functools import reduce\n",
    "filtered_pitstops_stop = pitstops.groupby(['raceId', 'driverId']).agg({'stop':'max'}).reset_index()\n",
    "\n",
    "merged_csv = reduce(lambda x,y: pd.merge(x,y, on=[ 'driverId'], how='inner'), [qualifying, drivers])\n",
    "merged_csv = reduce(lambda x,y: pd.merge(x,y, on=[ 'raceId'], how='inner'), [merged_csv, races])\n",
    "merged_csv = reduce(lambda x,y: pd.merge(x,y, on=[ 'raceId','driverId'], how='inner'), [merged_csv, filtered_pitstops_stop, driverstanding])\n",
    "merged_csv = reduce(lambda x,y: pd.merge(x,y, on=[ 'raceId','constructorId'], how='inner'), [merged_csv, constructorsstanding])"
   ],
   "metadata": {
    "collapsed": false,
    "pycharm": {
     "name": "#%%\n"
    }
   }
  },
  {
   "cell_type": "code",
   "execution_count": 9,
   "outputs": [
    {
     "data": {
      "text/plain": "   qualifyId  raceId  driverId  constructorId  number_x  position_x        q1  \\\n0       4538     841         1              1         3           2  1:25.384   \n1       4540     841        18              1         4           4  1:25.886   \n2       4555     841         5            205        20          19  1:29.254   \n3       4556     841        15            205        21          20  1:29.342   \n4       4544     841        13              6         6           8  1:26.031   \n\n         q2        q3   driverRef  ... driverStandingsId points_x position_y  \\\n0  1:24.595  1:24.307    hamilton  ...             64691     18.0          2   \n1  1:24.957  1:24.779      button  ...             64695      8.0          6   \n2        \\N        \\N  kovalainen  ...             64707      0.0         18   \n3        \\N        \\N      trulli  ...             64702      0.0         13   \n4  1:25.611  1:25.599       massa  ...             64696      6.0          7   \n\n  positionText_x wins_x constructorStandingsId points_y  position  \\\n0              2      0                  24661     26.0         2   \n1              6      0                  24661     26.0         2   \n2             18      0                  24666      0.0         7   \n3             13      0                  24666      0.0         7   \n4              7      0                  24663     18.0         3   \n\n   positionText_y  wins_y  \n0               2       0  \n1               2       0  \n2               7       0  \n3               7       0  \n4               3       0  \n\n[5 rows x 35 columns]",
      "text/html": "<div>\n<style scoped>\n    .dataframe tbody tr th:only-of-type {\n        vertical-align: middle;\n    }\n\n    .dataframe tbody tr th {\n        vertical-align: top;\n    }\n\n    .dataframe thead th {\n        text-align: right;\n    }\n</style>\n<table border=\"1\" class=\"dataframe\">\n  <thead>\n    <tr style=\"text-align: right;\">\n      <th></th>\n      <th>qualifyId</th>\n      <th>raceId</th>\n      <th>driverId</th>\n      <th>constructorId</th>\n      <th>number_x</th>\n      <th>position_x</th>\n      <th>q1</th>\n      <th>q2</th>\n      <th>q3</th>\n      <th>driverRef</th>\n      <th>...</th>\n      <th>driverStandingsId</th>\n      <th>points_x</th>\n      <th>position_y</th>\n      <th>positionText_x</th>\n      <th>wins_x</th>\n      <th>constructorStandingsId</th>\n      <th>points_y</th>\n      <th>position</th>\n      <th>positionText_y</th>\n      <th>wins_y</th>\n    </tr>\n  </thead>\n  <tbody>\n    <tr>\n      <th>0</th>\n      <td>4538</td>\n      <td>841</td>\n      <td>1</td>\n      <td>1</td>\n      <td>3</td>\n      <td>2</td>\n      <td>1:25.384</td>\n      <td>1:24.595</td>\n      <td>1:24.307</td>\n      <td>hamilton</td>\n      <td>...</td>\n      <td>64691</td>\n      <td>18.0</td>\n      <td>2</td>\n      <td>2</td>\n      <td>0</td>\n      <td>24661</td>\n      <td>26.0</td>\n      <td>2</td>\n      <td>2</td>\n      <td>0</td>\n    </tr>\n    <tr>\n      <th>1</th>\n      <td>4540</td>\n      <td>841</td>\n      <td>18</td>\n      <td>1</td>\n      <td>4</td>\n      <td>4</td>\n      <td>1:25.886</td>\n      <td>1:24.957</td>\n      <td>1:24.779</td>\n      <td>button</td>\n      <td>...</td>\n      <td>64695</td>\n      <td>8.0</td>\n      <td>6</td>\n      <td>6</td>\n      <td>0</td>\n      <td>24661</td>\n      <td>26.0</td>\n      <td>2</td>\n      <td>2</td>\n      <td>0</td>\n    </tr>\n    <tr>\n      <th>2</th>\n      <td>4555</td>\n      <td>841</td>\n      <td>5</td>\n      <td>205</td>\n      <td>20</td>\n      <td>19</td>\n      <td>1:29.254</td>\n      <td>\\N</td>\n      <td>\\N</td>\n      <td>kovalainen</td>\n      <td>...</td>\n      <td>64707</td>\n      <td>0.0</td>\n      <td>18</td>\n      <td>18</td>\n      <td>0</td>\n      <td>24666</td>\n      <td>0.0</td>\n      <td>7</td>\n      <td>7</td>\n      <td>0</td>\n    </tr>\n    <tr>\n      <th>3</th>\n      <td>4556</td>\n      <td>841</td>\n      <td>15</td>\n      <td>205</td>\n      <td>21</td>\n      <td>20</td>\n      <td>1:29.342</td>\n      <td>\\N</td>\n      <td>\\N</td>\n      <td>trulli</td>\n      <td>...</td>\n      <td>64702</td>\n      <td>0.0</td>\n      <td>13</td>\n      <td>13</td>\n      <td>0</td>\n      <td>24666</td>\n      <td>0.0</td>\n      <td>7</td>\n      <td>7</td>\n      <td>0</td>\n    </tr>\n    <tr>\n      <th>4</th>\n      <td>4544</td>\n      <td>841</td>\n      <td>13</td>\n      <td>6</td>\n      <td>6</td>\n      <td>8</td>\n      <td>1:26.031</td>\n      <td>1:25.611</td>\n      <td>1:25.599</td>\n      <td>massa</td>\n      <td>...</td>\n      <td>64696</td>\n      <td>6.0</td>\n      <td>7</td>\n      <td>7</td>\n      <td>0</td>\n      <td>24663</td>\n      <td>18.0</td>\n      <td>3</td>\n      <td>3</td>\n      <td>0</td>\n    </tr>\n  </tbody>\n</table>\n<p>5 rows × 35 columns</p>\n</div>"
     },
     "execution_count": 9,
     "metadata": {},
     "output_type": "execute_result"
    }
   ],
   "source": [
    "merged_csv.head()"
   ],
   "metadata": {
    "collapsed": false,
    "pycharm": {
     "name": "#%%\n"
    }
   }
  },
  {
   "cell_type": "markdown",
   "source": [
    "## split into X, Y, train and test"
   ],
   "metadata": {
    "collapsed": false,
    "pycharm": {
     "name": "#%% md\n"
    }
   }
  },
  {
   "cell_type": "markdown",
   "source": [
    "### X\n",
    "Train and test"
   ],
   "metadata": {
    "collapsed": false,
    "pycharm": {
     "name": "#%% md\n"
    }
   }
  },
  {
   "cell_type": "code",
   "execution_count": 10,
   "outputs": [],
   "source": [
    "X_full = merged_csv[\n",
    "    ['year', 'circuitId', 'name', 'driverId', 'forename', 'surname', 'position_y', 'stop', 'position']].rename(\n",
    "    columns={'position_y': 'position_qualy', 'position': 'position_constructor'})\n",
    "#split in train and test on position_qualy, position_constructor and stop\n",
    "X_train = X_full[X_full['year'] <= 2021]\n",
    "X_train_filtered = X_train.filter(['position_qualy', 'stop', 'position_constructor'])\n",
    "X_test = X_full[X_full['year'] > 2021]\n",
    "X_test_filtered = X_test.filter(['position_qualy', 'stop', 'position_constructor'])"
   ],
   "metadata": {
    "collapsed": false,
    "pycharm": {
     "name": "#%%\n"
    }
   }
  },
  {
   "cell_type": "code",
   "execution_count": 11,
   "outputs": [
    {
     "data": {
      "text/plain": "      position_qualy  stop  position_constructor\n4242               3     3                     2\n4243               4     3                     2\n4244               9     3                     5\n4245               7     3                     5\n4246              17     3                     7",
      "text/html": "<div>\n<style scoped>\n    .dataframe tbody tr th:only-of-type {\n        vertical-align: middle;\n    }\n\n    .dataframe tbody tr th {\n        vertical-align: top;\n    }\n\n    .dataframe thead th {\n        text-align: right;\n    }\n</style>\n<table border=\"1\" class=\"dataframe\">\n  <thead>\n    <tr style=\"text-align: right;\">\n      <th></th>\n      <th>position_qualy</th>\n      <th>stop</th>\n      <th>position_constructor</th>\n    </tr>\n  </thead>\n  <tbody>\n    <tr>\n      <th>4242</th>\n      <td>3</td>\n      <td>3</td>\n      <td>2</td>\n    </tr>\n    <tr>\n      <th>4243</th>\n      <td>4</td>\n      <td>3</td>\n      <td>2</td>\n    </tr>\n    <tr>\n      <th>4244</th>\n      <td>9</td>\n      <td>3</td>\n      <td>5</td>\n    </tr>\n    <tr>\n      <th>4245</th>\n      <td>7</td>\n      <td>3</td>\n      <td>5</td>\n    </tr>\n    <tr>\n      <th>4246</th>\n      <td>17</td>\n      <td>3</td>\n      <td>7</td>\n    </tr>\n  </tbody>\n</table>\n</div>"
     },
     "execution_count": 11,
     "metadata": {},
     "output_type": "execute_result"
    }
   ],
   "source": [
    "X_test_filtered.head()"
   ],
   "metadata": {
    "collapsed": false,
    "pycharm": {
     "name": "#%%\n"
    }
   }
  },
  {
   "cell_type": "markdown",
   "source": [
    "### Y\n",
    "Train and test"
   ],
   "metadata": {
    "collapsed": false,
    "pycharm": {
     "name": "#%% md\n"
    }
   }
  },
  {
   "cell_type": "code",
   "execution_count": 12,
   "outputs": [],
   "source": [
    "# Y\n",
    "Y = merged_csv[['year', 'position_x']].rename({'position_x': 'position_finish'}, axis=1)\n",
    "#split in train and test\n",
    "Y_train = Y[Y['year'] <= 2021]\n",
    "Y_test = Y[Y['year'] > 2021]"
   ],
   "metadata": {
    "collapsed": false,
    "pycharm": {
     "name": "#%%\n"
    }
   }
  },
  {
   "cell_type": "code",
   "execution_count": 13,
   "outputs": [
    {
     "data": {
      "text/plain": "      year  position_finish\n4242  2022                5\n4243  2022                9\n4244  2022                8\n4245  2022               11\n4246  2022               17",
      "text/html": "<div>\n<style scoped>\n    .dataframe tbody tr th:only-of-type {\n        vertical-align: middle;\n    }\n\n    .dataframe tbody tr th {\n        vertical-align: top;\n    }\n\n    .dataframe thead th {\n        text-align: right;\n    }\n</style>\n<table border=\"1\" class=\"dataframe\">\n  <thead>\n    <tr style=\"text-align: right;\">\n      <th></th>\n      <th>year</th>\n      <th>position_finish</th>\n    </tr>\n  </thead>\n  <tbody>\n    <tr>\n      <th>4242</th>\n      <td>2022</td>\n      <td>5</td>\n    </tr>\n    <tr>\n      <th>4243</th>\n      <td>2022</td>\n      <td>9</td>\n    </tr>\n    <tr>\n      <th>4244</th>\n      <td>2022</td>\n      <td>8</td>\n    </tr>\n    <tr>\n      <th>4245</th>\n      <td>2022</td>\n      <td>11</td>\n    </tr>\n    <tr>\n      <th>4246</th>\n      <td>2022</td>\n      <td>17</td>\n    </tr>\n  </tbody>\n</table>\n</div>"
     },
     "execution_count": 13,
     "metadata": {},
     "output_type": "execute_result"
    }
   ],
   "source": [
    "Y_test.head()"
   ],
   "metadata": {
    "collapsed": false,
    "pycharm": {
     "name": "#%%\n"
    }
   }
  },
  {
   "cell_type": "markdown",
   "source": [
    "## (De)normalize data\n",
    "I will have to normalize the data. This will get us a better result.\n",
    "I will do this using this formula:\n",
    "$\\frac{data – np.min(data)}{np.max(data) – np.min(data)}$\n",
    "This will get us results between 0 and 1.\n",
    "To later show a clear picture of the result and ranking, I will also denormalize the data.\n",
    "I use the same formula but remodelled it:\n",
    "$data * (max - min) + min$"
   ],
   "metadata": {
    "collapsed": false,
    "pycharm": {
     "name": "#%% md\n"
    }
   }
  },
  {
   "cell_type": "code",
   "execution_count": 14,
   "outputs": [],
   "source": [
    "def normalize(data):\n",
    "    return (data - np.min(data)) / (np.max(data) - np.min(data))\n",
    "def denormalize(data, min, max):\n",
    "    return (data * (max - min)) + min"
   ],
   "metadata": {
    "collapsed": false,
    "pycharm": {
     "name": "#%%\n"
    }
   }
  },
  {
   "cell_type": "markdown",
   "source": [
    "I will apply the normalize function to the data.\n",
    "\n"
   ],
   "metadata": {
    "collapsed": false,
    "pycharm": {
     "name": "#%% md\n"
    }
   }
  },
  {
   "cell_type": "code",
   "execution_count": 15,
   "outputs": [],
   "source": [
    "import numpy as np\n",
    "#train\n",
    "#X\n",
    "X_norm_train = normalize(X_train_filtered)\n",
    "X_norm_train.insert(0, 'ones', 1)\n",
    "#Y\n",
    "Y_norm_train = normalize(Y_train)\n",
    "\n",
    "#test\n",
    "#X\n",
    "X_norm_test = normalize(X_test_filtered)\n",
    "X_norm_test.insert(0, 'ones', 1)\n",
    "#Y\n",
    "Y_norm_test = normalize(Y_test)"
   ],
   "metadata": {
    "collapsed": false,
    "pycharm": {
     "name": "#%%\n"
    }
   }
  },
  {
   "cell_type": "markdown",
   "source": [
    "## Regression\n",
    "Now, I will write the function to calculate the ranking using the linear regression algorithm. I will do this without using any libraries.\n",
    "I have to make sure I don't overfit the data by not using too many degrees of freedom.\n",
    "For one degree of freedom, I can use the following formula: Yi = aplha + beta * Xi + epsilon. Where Xi is the input and Yi is the output and epsilon is the error. beta is the coefficient and alpha is the intercept.\n",
    "For multiple degrees of freedom, I can use the following formula: Yi =beta1 * Xi1 + beta2 * Xi2 + beta(n-1) * Xi(n-1) + epsilon. This is called the unique optimal parameter."
   ],
   "metadata": {
    "collapsed": false,
    "pycharm": {
     "name": "#%% md\n"
    }
   }
  },
  {
   "cell_type": "markdown",
   "source": [
    "### Unique optimal parameters\n",
    "Using $\\beta$ = (X * $X^T$ $)^-1$ * $X^T$ * Y, I can calculate the optimal parameters for the regression. (X * $X^T$ $)^-1$ * $X^T$ is built in numpy as np.linalg.pinv(X) [np.linalg.pinv](https://numpy.org/doc/stable/reference/generated/numpy.linalg.pinv.html). Then, I have to multiply the matrix of X with the matrix of Y. I will do this using the built in function: np.matmul() [np.matmul](https://docs.scipy.org/doc/numpy/reference/generated/numpy.matmul.html)."
   ],
   "metadata": {
    "collapsed": false,
    "pycharm": {
     "name": "#%% md\n"
    }
   }
  },
  {
   "cell_type": "code",
   "execution_count": 16,
   "outputs": [],
   "source": [
    "def unique_optimal_parameters(X, Y):\n",
    "    return np.matmul(np.linalg.pinv(X), Y)"
   ],
   "metadata": {
    "collapsed": false,
    "pycharm": {
     "name": "#%%\n"
    }
   }
  },
  {
   "cell_type": "markdown",
   "source": [
    "## Bèta\n",
    "Using the formula above, I calculate bèta to use in the formula for the regression."
   ],
   "metadata": {
    "collapsed": false,
    "pycharm": {
     "name": "#%% md\n"
    }
   }
  },
  {
   "cell_type": "code",
   "execution_count": 17,
   "outputs": [
    {
     "data": {
      "text/plain": "array([0.07973602, 0.46047464, 0.00195947, 0.40552228])"
     },
     "execution_count": 17,
     "metadata": {},
     "output_type": "execute_result"
    }
   ],
   "source": [
    "beta = unique_optimal_parameters(X_norm_train, Y_norm_train['position_finish'])\n",
    "beta"
   ],
   "metadata": {
    "collapsed": false,
    "pycharm": {
     "name": "#%%\n"
    }
   }
  },
  {
   "cell_type": "markdown",
   "source": [
    "# Test\n",
    "Let's complete the puzzle by throwing all the pieces together.\n",
    "As earlier written, I use np.matmul to multiply the matrix of X with the matrix of bèta.\n",
    "To understand the result, I denormalize the values as well."
   ],
   "metadata": {
    "collapsed": false,
    "pycharm": {
     "name": "#%% md\n"
    }
   }
  },
  {
   "cell_type": "code",
   "execution_count": 18,
   "outputs": [],
   "source": [
    "def predict(X, beta):\n",
    "    return np.matmul(X, beta)"
   ],
   "metadata": {
    "collapsed": false,
    "pycharm": {
     "name": "#%%\n"
    }
   }
  },
  {
   "cell_type": "code",
   "execution_count": 19,
   "outputs": [],
   "source": [
    "X_pred = predict(X_norm_test, beta.T)\n",
    "X_pred_denorm = denormalize(X_pred,np.min(X_test_filtered['position_qualy']), np.max(X_test_filtered['position_qualy']) ).values.reshape(-1).astype(float)"
   ],
   "metadata": {
    "collapsed": false,
    "pycharm": {
     "name": "#%%\n"
    }
   }
  },
  {
   "cell_type": "markdown",
   "source": [
    "Create an extra column with the raw prediction values.\n",
    "I also changed the column name of the circuits from 'name' to 'circuit'.\n",
    "And lastly, I added the column 'actual' to the dataframe to compare the actual and the predicted ranking."
   ],
   "metadata": {
    "collapsed": false,
    "pycharm": {
     "name": "#%% md\n"
    }
   }
  },
  {
   "cell_type": "code",
   "execution_count": 20,
   "outputs": [],
   "source": [
    "X_test['prediction'] = X_pred_denorm.tolist()\n",
    "#rename name to circuit_name\n",
    "X_test.rename(columns={'name':'circuit'}, inplace=True)\n",
    "X_test['actual'] = Y_test['position_finish'].values.reshape(-1).astype(int)"
   ],
   "metadata": {
    "collapsed": false,
    "pycharm": {
     "name": "#%%\n"
    }
   }
  },
  {
   "cell_type": "code",
   "execution_count": 21,
   "outputs": [
    {
     "data": {
      "text/plain": "      year  circuitId             circuit  driverId  forename     surname  \\\n4242  2022          3  Bahrain Grand Prix         1     Lewis    Hamilton   \n4243  2022          3  Bahrain Grand Prix       847    George     Russell   \n4244  2022          3  Bahrain Grand Prix         4  Fernando      Alonso   \n4245  2022          3  Bahrain Grand Prix       839   Esteban        Ocon   \n4246  2022          3  Bahrain Grand Prix       807      Nico  Hülkenberg   \n\n      position_qualy  stop  position_constructor  prediction  actual  \n4242               3     3                     2    4.329266       5  \n4243               4     3                     2    4.789741       9  \n4244               9     3                     5    9.660422       8  \n4245               7     3                     5    8.739472      11  \n4246              17     3                     7   15.056424      17  ",
      "text/html": "<div>\n<style scoped>\n    .dataframe tbody tr th:only-of-type {\n        vertical-align: middle;\n    }\n\n    .dataframe tbody tr th {\n        vertical-align: top;\n    }\n\n    .dataframe thead th {\n        text-align: right;\n    }\n</style>\n<table border=\"1\" class=\"dataframe\">\n  <thead>\n    <tr style=\"text-align: right;\">\n      <th></th>\n      <th>year</th>\n      <th>circuitId</th>\n      <th>circuit</th>\n      <th>driverId</th>\n      <th>forename</th>\n      <th>surname</th>\n      <th>position_qualy</th>\n      <th>stop</th>\n      <th>position_constructor</th>\n      <th>prediction</th>\n      <th>actual</th>\n    </tr>\n  </thead>\n  <tbody>\n    <tr>\n      <th>4242</th>\n      <td>2022</td>\n      <td>3</td>\n      <td>Bahrain Grand Prix</td>\n      <td>1</td>\n      <td>Lewis</td>\n      <td>Hamilton</td>\n      <td>3</td>\n      <td>3</td>\n      <td>2</td>\n      <td>4.329266</td>\n      <td>5</td>\n    </tr>\n    <tr>\n      <th>4243</th>\n      <td>2022</td>\n      <td>3</td>\n      <td>Bahrain Grand Prix</td>\n      <td>847</td>\n      <td>George</td>\n      <td>Russell</td>\n      <td>4</td>\n      <td>3</td>\n      <td>2</td>\n      <td>4.789741</td>\n      <td>9</td>\n    </tr>\n    <tr>\n      <th>4244</th>\n      <td>2022</td>\n      <td>3</td>\n      <td>Bahrain Grand Prix</td>\n      <td>4</td>\n      <td>Fernando</td>\n      <td>Alonso</td>\n      <td>9</td>\n      <td>3</td>\n      <td>5</td>\n      <td>9.660422</td>\n      <td>8</td>\n    </tr>\n    <tr>\n      <th>4245</th>\n      <td>2022</td>\n      <td>3</td>\n      <td>Bahrain Grand Prix</td>\n      <td>839</td>\n      <td>Esteban</td>\n      <td>Ocon</td>\n      <td>7</td>\n      <td>3</td>\n      <td>5</td>\n      <td>8.739472</td>\n      <td>11</td>\n    </tr>\n    <tr>\n      <th>4246</th>\n      <td>2022</td>\n      <td>3</td>\n      <td>Bahrain Grand Prix</td>\n      <td>807</td>\n      <td>Nico</td>\n      <td>Hülkenberg</td>\n      <td>17</td>\n      <td>3</td>\n      <td>7</td>\n      <td>15.056424</td>\n      <td>17</td>\n    </tr>\n  </tbody>\n</table>\n</div>"
     },
     "execution_count": 21,
     "metadata": {},
     "output_type": "execute_result"
    }
   ],
   "source": [
    "X_test.head()"
   ],
   "metadata": {
    "collapsed": false,
    "pycharm": {
     "name": "#%%\n"
    }
   }
  },
  {
   "cell_type": "markdown",
   "source": [
    "# Result analysis\n",
    "Let's calculate the difference between the predicted and the actual ranking and show it in the percent."
   ],
   "metadata": {
    "collapsed": false,
    "pycharm": {
     "name": "#%% md\n"
    }
   }
  },
  {
   "cell_type": "code",
   "execution_count": 22,
   "outputs": [],
   "source": [
    "def result_analysis(X_test):\n",
    "    X_test['difference_prediction'] = X_test['prediction'] - X_test['actual']\n",
    "    X_test['difference_ranking'] = X_test['predicted_ranking'] - X_test['actual']\n",
    "    X_test['percentage_difference_prediction'] = ((X_test['difference_prediction'] / X_test['actual']  * 100 ).round(2)).astype(str) + '%'\n",
    "    X_test['percentage_difference_ranking'] = ((X_test['difference_ranking'] / X_test['actual']  * 100 ).round(2)).astype(str) + '%'"
   ],
   "metadata": {
    "collapsed": false,
    "pycharm": {
     "name": "#%%\n"
    }
   }
  },
  {
   "cell_type": "code",
   "execution_count": 23,
   "outputs": [],
   "source": [
    "#create ranking based on prediciton\n",
    "X_test['predicted_ranking'] = X_test.groupby(['circuitId'])['prediction'].rank(ascending=True).astype(int)\n",
    "result_analysis(X_test)"
   ],
   "metadata": {
    "collapsed": false,
    "pycharm": {
     "name": "#%%\n"
    }
   }
  },
  {
   "cell_type": "code",
   "execution_count": 24,
   "outputs": [
    {
     "data": {
      "text/plain": "      year  circuitId             circuit  driverId  forename     surname  \\\n4242  2022          3  Bahrain Grand Prix         1     Lewis    Hamilton   \n4243  2022          3  Bahrain Grand Prix       847    George     Russell   \n4244  2022          3  Bahrain Grand Prix         4  Fernando      Alonso   \n4245  2022          3  Bahrain Grand Prix       839   Esteban        Ocon   \n4246  2022          3  Bahrain Grand Prix       807      Nico  Hülkenberg   \n\n      position_qualy  stop  position_constructor  prediction  actual  \\\n4242               3     3                     2    4.329266       5   \n4243               4     3                     2    4.789741       9   \n4244               9     3                     5    9.660422       8   \n4245               7     3                     5    8.739472      11   \n4246              17     3                     7   15.056424      17   \n\n      predicted_ranking  difference_prediction  difference_ranking  \\\n4242                  3              -0.670734                  -2   \n4243                  4              -4.210259                  -5   \n4244                 10               1.660422                   2   \n4245                  7              -2.260528                  -4   \n4246                 14              -1.943576                  -3   \n\n     percentage_difference_prediction percentage_difference_ranking  \n4242                          -13.41%                        -40.0%  \n4243                          -46.78%                       -55.56%  \n4244                           20.76%                         25.0%  \n4245                          -20.55%                       -36.36%  \n4246                          -11.43%                       -17.65%  ",
      "text/html": "<div>\n<style scoped>\n    .dataframe tbody tr th:only-of-type {\n        vertical-align: middle;\n    }\n\n    .dataframe tbody tr th {\n        vertical-align: top;\n    }\n\n    .dataframe thead th {\n        text-align: right;\n    }\n</style>\n<table border=\"1\" class=\"dataframe\">\n  <thead>\n    <tr style=\"text-align: right;\">\n      <th></th>\n      <th>year</th>\n      <th>circuitId</th>\n      <th>circuit</th>\n      <th>driverId</th>\n      <th>forename</th>\n      <th>surname</th>\n      <th>position_qualy</th>\n      <th>stop</th>\n      <th>position_constructor</th>\n      <th>prediction</th>\n      <th>actual</th>\n      <th>predicted_ranking</th>\n      <th>difference_prediction</th>\n      <th>difference_ranking</th>\n      <th>percentage_difference_prediction</th>\n      <th>percentage_difference_ranking</th>\n    </tr>\n  </thead>\n  <tbody>\n    <tr>\n      <th>4242</th>\n      <td>2022</td>\n      <td>3</td>\n      <td>Bahrain Grand Prix</td>\n      <td>1</td>\n      <td>Lewis</td>\n      <td>Hamilton</td>\n      <td>3</td>\n      <td>3</td>\n      <td>2</td>\n      <td>4.329266</td>\n      <td>5</td>\n      <td>3</td>\n      <td>-0.670734</td>\n      <td>-2</td>\n      <td>-13.41%</td>\n      <td>-40.0%</td>\n    </tr>\n    <tr>\n      <th>4243</th>\n      <td>2022</td>\n      <td>3</td>\n      <td>Bahrain Grand Prix</td>\n      <td>847</td>\n      <td>George</td>\n      <td>Russell</td>\n      <td>4</td>\n      <td>3</td>\n      <td>2</td>\n      <td>4.789741</td>\n      <td>9</td>\n      <td>4</td>\n      <td>-4.210259</td>\n      <td>-5</td>\n      <td>-46.78%</td>\n      <td>-55.56%</td>\n    </tr>\n    <tr>\n      <th>4244</th>\n      <td>2022</td>\n      <td>3</td>\n      <td>Bahrain Grand Prix</td>\n      <td>4</td>\n      <td>Fernando</td>\n      <td>Alonso</td>\n      <td>9</td>\n      <td>3</td>\n      <td>5</td>\n      <td>9.660422</td>\n      <td>8</td>\n      <td>10</td>\n      <td>1.660422</td>\n      <td>2</td>\n      <td>20.76%</td>\n      <td>25.0%</td>\n    </tr>\n    <tr>\n      <th>4245</th>\n      <td>2022</td>\n      <td>3</td>\n      <td>Bahrain Grand Prix</td>\n      <td>839</td>\n      <td>Esteban</td>\n      <td>Ocon</td>\n      <td>7</td>\n      <td>3</td>\n      <td>5</td>\n      <td>8.739472</td>\n      <td>11</td>\n      <td>7</td>\n      <td>-2.260528</td>\n      <td>-4</td>\n      <td>-20.55%</td>\n      <td>-36.36%</td>\n    </tr>\n    <tr>\n      <th>4246</th>\n      <td>2022</td>\n      <td>3</td>\n      <td>Bahrain Grand Prix</td>\n      <td>807</td>\n      <td>Nico</td>\n      <td>Hülkenberg</td>\n      <td>17</td>\n      <td>3</td>\n      <td>7</td>\n      <td>15.056424</td>\n      <td>17</td>\n      <td>14</td>\n      <td>-1.943576</td>\n      <td>-3</td>\n      <td>-11.43%</td>\n      <td>-17.65%</td>\n    </tr>\n  </tbody>\n</table>\n</div>"
     },
     "execution_count": 24,
     "metadata": {},
     "output_type": "execute_result"
    }
   ],
   "source": [
    "X_test.head()"
   ],
   "metadata": {
    "collapsed": false,
    "pycharm": {
     "name": "#%%\n"
    }
   }
  },
  {
   "cell_type": "markdown",
   "source": [
    "Let's make the set easy to read.\n",
    "Convert the predictions to positions from 1 to 20.\n",
    "Even tough there are multiple predictions for 5th place at the Australian grand prix, there can only be one 5th place. For this example none of both the predicted 5th places are ranked 5th because there aren't enough small values to fill up places one to four.\n",
    "I also show the ranking from 1 to 20."
   ],
   "metadata": {
    "collapsed": false,
    "pycharm": {
     "name": "#%% md\n"
    }
   }
  },
  {
   "cell_type": "code",
   "execution_count": 25,
   "outputs": [],
   "source": [
    "#order ranking and circuit from 1 to 20\n",
    "X_test = X_test.sort_values(by=['circuit','predicted_ranking'])\n",
    "X_test = X_test[['year','circuit','forename', 'surname', 'position_qualy', 'stop', 'position_constructor', 'prediction', 'predicted_ranking','actual', 'difference_prediction', 'difference_ranking', 'percentage_difference_prediction', 'percentage_difference_ranking']]"
   ],
   "metadata": {
    "collapsed": false,
    "pycharm": {
     "name": "#%%\n"
    }
   }
  },
  {
   "cell_type": "code",
   "execution_count": 26,
   "outputs": [
    {
     "data": {
      "text/plain": "      year                   circuit   forename     surname  position_qualy  \\\n4294  2022     Australian Grand Prix    Charles     Leclerc               1   \n4280  2022     Australian Grand Prix     George     Russell               2   \n4279  2022     Australian Grand Prix      Lewis    Hamilton               5   \n4283  2022     Australian Grand Prix     Sergio       Pérez               4   \n4284  2022     Australian Grand Prix        Max  Verstappen               6   \n4286  2022     Australian Grand Prix      Lando      Norris               8   \n4282  2022     Australian Grand Prix    Esteban        Ocon               7   \n4285  2022     Australian Grand Prix     Daniel   Ricciardo              11   \n4287  2022     Australian Grand Prix   Valtteri      Bottas              10   \n4289  2022     Australian Grand Prix      Kevin   Magnussen               9   \n4281  2022     Australian Grand Prix   Fernando      Alonso              14   \n4288  2022     Australian Grand Prix     Guanyu        Zhou              15   \n4292  2022     Australian Grand Prix     Pierre       Gasly              12   \n4293  2022     Australian Grand Prix       Yuki     Tsunoda              13   \n4290  2022     Australian Grand Prix       Mick  Schumacher              17   \n4295  2022     Australian Grand Prix  Alexander       Albon              16   \n4291  2022     Australian Grand Prix      Lance      Stroll              18   \n4296  2022     Australian Grand Prix   Nicholas      Latifi              20   \n4257  2022        Bahrain Grand Prix    Charles     Leclerc               1   \n4256  2022        Bahrain Grand Prix     Carlos       Sainz               2   \n4242  2022        Bahrain Grand Prix      Lewis    Hamilton               3   \n4243  2022        Bahrain Grand Prix     George     Russell               4   \n4254  2022        Bahrain Grand Prix      Kevin   Magnussen               5   \n4252  2022        Bahrain Grand Prix   Valtteri      Bottas               6   \n4245  2022        Bahrain Grand Prix    Esteban        Ocon               7   \n4255  2022        Bahrain Grand Prix       Mick  Schumacher              11   \n4253  2022        Bahrain Grand Prix     Guanyu        Zhou              10   \n4244  2022        Bahrain Grand Prix   Fernando      Alonso               9   \n4259  2022        Bahrain Grand Prix       Yuki     Tsunoda               8   \n4247  2022        Bahrain Grand Prix      Lance      Stroll              12   \n4260  2022        Bahrain Grand Prix  Alexander       Albon              13   \n4246  2022        Bahrain Grand Prix       Nico  Hülkenberg              17   \n4250  2022        Bahrain Grand Prix     Daniel   Ricciardo              14   \n4261  2022        Bahrain Grand Prix   Nicholas      Latifi              16   \n4258  2022        Bahrain Grand Prix     Pierre       Gasly              20   \n4251  2022        Bahrain Grand Prix      Lando      Norris              15   \n4248  2022        Bahrain Grand Prix     Sergio       Pérez              18   \n4249  2022        Bahrain Grand Prix        Max  Verstappen              19   \n4276  2022  Saudi Arabian Grand Prix    Charles     Leclerc               1   \n4275  2022  Saudi Arabian Grand Prix     Carlos       Sainz               2   \n4263  2022  Saudi Arabian Grand Prix     George     Russell               4   \n4269  2022  Saudi Arabian Grand Prix        Max  Verstappen               3   \n4262  2022  Saudi Arabian Grand Prix      Lewis    Hamilton               5   \n4268  2022  Saudi Arabian Grand Prix     Sergio       Pérez               7   \n4265  2022  Saudi Arabian Grand Prix    Esteban        Ocon               6   \n4274  2022  Saudi Arabian Grand Prix      Kevin   Magnussen               8   \n4272  2022  Saudi Arabian Grand Prix   Valtteri      Bottas               9   \n4264  2022  Saudi Arabian Grand Prix   Fernando      Alonso              13   \n4271  2022  Saudi Arabian Grand Prix      Lando      Norris              10   \n4277  2022  Saudi Arabian Grand Prix     Pierre       Gasly              12   \n4273  2022  Saudi Arabian Grand Prix     Guanyu        Zhou              14   \n4267  2022  Saudi Arabian Grand Prix      Lance      Stroll              16   \n4266  2022  Saudi Arabian Grand Prix       Nico  Hülkenberg              17   \n4270  2022  Saudi Arabian Grand Prix     Daniel   Ricciardo              19   \n4278  2022  Saudi Arabian Grand Prix  Alexander       Albon              18   \n\n      stop  position_constructor  prediction  predicted_ranking  actual  \\\n4294     1                     1    2.514984                  1       1   \n4280     1                     2    3.831562                  2       6   \n4279     1                     2    5.212986                  3       5   \n4283     1                     3    5.608613                  4       3   \n4284     1                     3    6.529563                  5       2   \n4286     1                     4    8.306615                  6       4   \n4282     1                     5    8.702243                  7       8   \n4285     1                     4    9.688039                  8       7   \n4287     1                     6   10.939769                  9      12   \n4289     1                     7   11.335397                 10      17   \n4281     2                     5   11.944180                 11      10   \n4288     1                     6   13.242142                 12      14   \n4292     1                     8   13.572924                 13      11   \n4293     1                     8   14.033398                 14      13   \n4290     1                     7   15.019194                 15      15   \n4295     1                     9   16.270925                 16      16   \n4291     3                    10   18.085206                 17      20   \n4296     2                     9   18.131438                 18      19   \n4257     3                     1    2.552214                  1       1   \n4256     3                     1    3.012689                  2       3   \n4242     3                     2    4.329266                  3       5   \n4243     3                     2    4.789741                  4       9   \n4254     3                     3    6.106318                  5       7   \n4252     3                     4    7.422895                  6       6   \n4245     3                     5    8.739472                  7      11   \n4255     2                     3    8.850551                  8      12   \n4253     3                     4    9.264794                  9      15   \n4244     3                     5    9.660422                 10       8   \n4259     3                     6   10.056050                 11      16   \n4247     3                     7   12.754051                 12      19   \n4260     3                     8   14.070628                 13      14   \n4246     3                     7   15.056424                 14      17   \n4250     3                     9   15.387205                 15      18   \n4261     3                     8   15.452052                 16      20   \n4258     2                     6   15.563130                 17      10   \n4251     3                     9   15.847680                 18      13   \n4248     3                    10   18.085206                 19       4   \n4249     3                    10   18.545681                 20       2   \n4276     1                     1    2.514984                  1       2   \n4275     1                     1    2.975459                  2       3   \n4263     1                     2    4.752511                  3       6   \n4269     1                     3    5.148139                  4       4   \n4262     1                     2    5.212986                  5      16   \n4268     1                     3    6.990037                  6       1   \n4265     1                     4    7.385665                  7       5   \n4274     1                     5    9.162717                  8      10   \n4272     2                     6   10.497909                  9       8   \n4264     1                     4   10.608988                 10       7   \n4271     1                     8   12.651974                 11      11   \n4277     1                     7   12.716821                 12       9   \n4273     2                     6   12.800283                 13      13   \n4267     1                     9   16.270925                 14      15   \n4266     1                     9   16.731399                 15      18   \n4270     1                     8   16.796246                 16      12   \n4278     1                    10   18.047977                 17      17   \n\n      difference_prediction  difference_ranking  \\\n4294               1.514984                   0   \n4280              -2.168438                  -4   \n4279               0.212986                  -2   \n4283               2.608613                   1   \n4284               4.529563                   3   \n4286               4.306615                   2   \n4282               0.702243                  -1   \n4285               2.688039                   1   \n4287              -1.060231                  -3   \n4289              -5.664603                  -7   \n4281               1.944180                   1   \n4288              -0.757858                  -2   \n4292               2.572924                   2   \n4293               1.033398                   1   \n4290               0.019194                   0   \n4295               0.270925                   0   \n4291              -1.914794                  -3   \n4296              -0.868562                  -1   \n4257               1.552214                   0   \n4256               0.012689                  -1   \n4242              -0.670734                  -2   \n4243              -4.210259                  -5   \n4254              -0.893682                  -2   \n4252               1.422895                   0   \n4245              -2.260528                  -4   \n4255              -3.149449                  -4   \n4253              -5.735206                  -6   \n4244               1.660422                   2   \n4259              -5.943950                  -5   \n4247              -6.245949                  -7   \n4260               0.070628                  -1   \n4246              -1.943576                  -3   \n4250              -2.612795                  -3   \n4261              -4.547948                  -4   \n4258               5.563130                   7   \n4251               2.847680                   5   \n4248              14.085206                  15   \n4249              16.545681                  18   \n4276               0.514984                  -1   \n4275              -0.024541                  -1   \n4263              -1.247489                  -3   \n4269               1.148139                   0   \n4262             -10.787014                 -11   \n4268               5.990037                   5   \n4265               2.385665                   2   \n4274              -0.837283                  -2   \n4272               2.497909                   1   \n4264               3.608988                   3   \n4271               1.651974                   0   \n4277               3.716821                   3   \n4273              -0.199717                   0   \n4267               1.270925                  -1   \n4266              -1.268601                  -3   \n4270               4.796246                   4   \n4278               1.047977                   0   \n\n     percentage_difference_prediction percentage_difference_ranking  \n4294                           151.5%                          0.0%  \n4280                          -36.14%                       -66.67%  \n4279                            4.26%                        -40.0%  \n4283                           86.95%                        33.33%  \n4284                          226.48%                        150.0%  \n4286                          107.67%                         50.0%  \n4282                            8.78%                        -12.5%  \n4285                            38.4%                        14.29%  \n4287                           -8.84%                        -25.0%  \n4289                          -33.32%                       -41.18%  \n4281                           19.44%                         10.0%  \n4288                           -5.41%                       -14.29%  \n4292                           23.39%                        18.18%  \n4293                            7.95%                         7.69%  \n4290                            0.13%                          0.0%  \n4295                            1.69%                          0.0%  \n4291                           -9.57%                        -15.0%  \n4296                           -4.57%                        -5.26%  \n4257                          155.22%                          0.0%  \n4256                            0.42%                       -33.33%  \n4242                          -13.41%                        -40.0%  \n4243                          -46.78%                       -55.56%  \n4254                          -12.77%                       -28.57%  \n4252                           23.71%                          0.0%  \n4245                          -20.55%                       -36.36%  \n4255                          -26.25%                       -33.33%  \n4253                          -38.23%                        -40.0%  \n4244                           20.76%                         25.0%  \n4259                          -37.15%                       -31.25%  \n4247                          -32.87%                       -36.84%  \n4260                             0.5%                        -7.14%  \n4246                          -11.43%                       -17.65%  \n4250                          -14.52%                       -16.67%  \n4261                          -22.74%                        -20.0%  \n4258                           55.63%                         70.0%  \n4251                           21.91%                        38.46%  \n4248                          352.13%                        375.0%  \n4249                          827.28%                        900.0%  \n4276                           25.75%                        -50.0%  \n4275                           -0.82%                       -33.33%  \n4263                          -20.79%                        -50.0%  \n4269                            28.7%                          0.0%  \n4262                          -67.42%                       -68.75%  \n4268                           599.0%                        500.0%  \n4265                           47.71%                         40.0%  \n4274                           -8.37%                        -20.0%  \n4272                           31.22%                         12.5%  \n4264                           51.56%                        42.86%  \n4271                           15.02%                          0.0%  \n4277                            41.3%                        33.33%  \n4273                           -1.54%                          0.0%  \n4267                            8.47%                        -6.67%  \n4266                           -7.05%                       -16.67%  \n4270                           39.97%                        33.33%  \n4278                            6.16%                          0.0%  ",
      "text/html": "<div>\n<style scoped>\n    .dataframe tbody tr th:only-of-type {\n        vertical-align: middle;\n    }\n\n    .dataframe tbody tr th {\n        vertical-align: top;\n    }\n\n    .dataframe thead th {\n        text-align: right;\n    }\n</style>\n<table border=\"1\" class=\"dataframe\">\n  <thead>\n    <tr style=\"text-align: right;\">\n      <th></th>\n      <th>year</th>\n      <th>circuit</th>\n      <th>forename</th>\n      <th>surname</th>\n      <th>position_qualy</th>\n      <th>stop</th>\n      <th>position_constructor</th>\n      <th>prediction</th>\n      <th>predicted_ranking</th>\n      <th>actual</th>\n      <th>difference_prediction</th>\n      <th>difference_ranking</th>\n      <th>percentage_difference_prediction</th>\n      <th>percentage_difference_ranking</th>\n    </tr>\n  </thead>\n  <tbody>\n    <tr>\n      <th>4294</th>\n      <td>2022</td>\n      <td>Australian Grand Prix</td>\n      <td>Charles</td>\n      <td>Leclerc</td>\n      <td>1</td>\n      <td>1</td>\n      <td>1</td>\n      <td>2.514984</td>\n      <td>1</td>\n      <td>1</td>\n      <td>1.514984</td>\n      <td>0</td>\n      <td>151.5%</td>\n      <td>0.0%</td>\n    </tr>\n    <tr>\n      <th>4280</th>\n      <td>2022</td>\n      <td>Australian Grand Prix</td>\n      <td>George</td>\n      <td>Russell</td>\n      <td>2</td>\n      <td>1</td>\n      <td>2</td>\n      <td>3.831562</td>\n      <td>2</td>\n      <td>6</td>\n      <td>-2.168438</td>\n      <td>-4</td>\n      <td>-36.14%</td>\n      <td>-66.67%</td>\n    </tr>\n    <tr>\n      <th>4279</th>\n      <td>2022</td>\n      <td>Australian Grand Prix</td>\n      <td>Lewis</td>\n      <td>Hamilton</td>\n      <td>5</td>\n      <td>1</td>\n      <td>2</td>\n      <td>5.212986</td>\n      <td>3</td>\n      <td>5</td>\n      <td>0.212986</td>\n      <td>-2</td>\n      <td>4.26%</td>\n      <td>-40.0%</td>\n    </tr>\n    <tr>\n      <th>4283</th>\n      <td>2022</td>\n      <td>Australian Grand Prix</td>\n      <td>Sergio</td>\n      <td>Pérez</td>\n      <td>4</td>\n      <td>1</td>\n      <td>3</td>\n      <td>5.608613</td>\n      <td>4</td>\n      <td>3</td>\n      <td>2.608613</td>\n      <td>1</td>\n      <td>86.95%</td>\n      <td>33.33%</td>\n    </tr>\n    <tr>\n      <th>4284</th>\n      <td>2022</td>\n      <td>Australian Grand Prix</td>\n      <td>Max</td>\n      <td>Verstappen</td>\n      <td>6</td>\n      <td>1</td>\n      <td>3</td>\n      <td>6.529563</td>\n      <td>5</td>\n      <td>2</td>\n      <td>4.529563</td>\n      <td>3</td>\n      <td>226.48%</td>\n      <td>150.0%</td>\n    </tr>\n    <tr>\n      <th>4286</th>\n      <td>2022</td>\n      <td>Australian Grand Prix</td>\n      <td>Lando</td>\n      <td>Norris</td>\n      <td>8</td>\n      <td>1</td>\n      <td>4</td>\n      <td>8.306615</td>\n      <td>6</td>\n      <td>4</td>\n      <td>4.306615</td>\n      <td>2</td>\n      <td>107.67%</td>\n      <td>50.0%</td>\n    </tr>\n    <tr>\n      <th>4282</th>\n      <td>2022</td>\n      <td>Australian Grand Prix</td>\n      <td>Esteban</td>\n      <td>Ocon</td>\n      <td>7</td>\n      <td>1</td>\n      <td>5</td>\n      <td>8.702243</td>\n      <td>7</td>\n      <td>8</td>\n      <td>0.702243</td>\n      <td>-1</td>\n      <td>8.78%</td>\n      <td>-12.5%</td>\n    </tr>\n    <tr>\n      <th>4285</th>\n      <td>2022</td>\n      <td>Australian Grand Prix</td>\n      <td>Daniel</td>\n      <td>Ricciardo</td>\n      <td>11</td>\n      <td>1</td>\n      <td>4</td>\n      <td>9.688039</td>\n      <td>8</td>\n      <td>7</td>\n      <td>2.688039</td>\n      <td>1</td>\n      <td>38.4%</td>\n      <td>14.29%</td>\n    </tr>\n    <tr>\n      <th>4287</th>\n      <td>2022</td>\n      <td>Australian Grand Prix</td>\n      <td>Valtteri</td>\n      <td>Bottas</td>\n      <td>10</td>\n      <td>1</td>\n      <td>6</td>\n      <td>10.939769</td>\n      <td>9</td>\n      <td>12</td>\n      <td>-1.060231</td>\n      <td>-3</td>\n      <td>-8.84%</td>\n      <td>-25.0%</td>\n    </tr>\n    <tr>\n      <th>4289</th>\n      <td>2022</td>\n      <td>Australian Grand Prix</td>\n      <td>Kevin</td>\n      <td>Magnussen</td>\n      <td>9</td>\n      <td>1</td>\n      <td>7</td>\n      <td>11.335397</td>\n      <td>10</td>\n      <td>17</td>\n      <td>-5.664603</td>\n      <td>-7</td>\n      <td>-33.32%</td>\n      <td>-41.18%</td>\n    </tr>\n    <tr>\n      <th>4281</th>\n      <td>2022</td>\n      <td>Australian Grand Prix</td>\n      <td>Fernando</td>\n      <td>Alonso</td>\n      <td>14</td>\n      <td>2</td>\n      <td>5</td>\n      <td>11.944180</td>\n      <td>11</td>\n      <td>10</td>\n      <td>1.944180</td>\n      <td>1</td>\n      <td>19.44%</td>\n      <td>10.0%</td>\n    </tr>\n    <tr>\n      <th>4288</th>\n      <td>2022</td>\n      <td>Australian Grand Prix</td>\n      <td>Guanyu</td>\n      <td>Zhou</td>\n      <td>15</td>\n      <td>1</td>\n      <td>6</td>\n      <td>13.242142</td>\n      <td>12</td>\n      <td>14</td>\n      <td>-0.757858</td>\n      <td>-2</td>\n      <td>-5.41%</td>\n      <td>-14.29%</td>\n    </tr>\n    <tr>\n      <th>4292</th>\n      <td>2022</td>\n      <td>Australian Grand Prix</td>\n      <td>Pierre</td>\n      <td>Gasly</td>\n      <td>12</td>\n      <td>1</td>\n      <td>8</td>\n      <td>13.572924</td>\n      <td>13</td>\n      <td>11</td>\n      <td>2.572924</td>\n      <td>2</td>\n      <td>23.39%</td>\n      <td>18.18%</td>\n    </tr>\n    <tr>\n      <th>4293</th>\n      <td>2022</td>\n      <td>Australian Grand Prix</td>\n      <td>Yuki</td>\n      <td>Tsunoda</td>\n      <td>13</td>\n      <td>1</td>\n      <td>8</td>\n      <td>14.033398</td>\n      <td>14</td>\n      <td>13</td>\n      <td>1.033398</td>\n      <td>1</td>\n      <td>7.95%</td>\n      <td>7.69%</td>\n    </tr>\n    <tr>\n      <th>4290</th>\n      <td>2022</td>\n      <td>Australian Grand Prix</td>\n      <td>Mick</td>\n      <td>Schumacher</td>\n      <td>17</td>\n      <td>1</td>\n      <td>7</td>\n      <td>15.019194</td>\n      <td>15</td>\n      <td>15</td>\n      <td>0.019194</td>\n      <td>0</td>\n      <td>0.13%</td>\n      <td>0.0%</td>\n    </tr>\n    <tr>\n      <th>4295</th>\n      <td>2022</td>\n      <td>Australian Grand Prix</td>\n      <td>Alexander</td>\n      <td>Albon</td>\n      <td>16</td>\n      <td>1</td>\n      <td>9</td>\n      <td>16.270925</td>\n      <td>16</td>\n      <td>16</td>\n      <td>0.270925</td>\n      <td>0</td>\n      <td>1.69%</td>\n      <td>0.0%</td>\n    </tr>\n    <tr>\n      <th>4291</th>\n      <td>2022</td>\n      <td>Australian Grand Prix</td>\n      <td>Lance</td>\n      <td>Stroll</td>\n      <td>18</td>\n      <td>3</td>\n      <td>10</td>\n      <td>18.085206</td>\n      <td>17</td>\n      <td>20</td>\n      <td>-1.914794</td>\n      <td>-3</td>\n      <td>-9.57%</td>\n      <td>-15.0%</td>\n    </tr>\n    <tr>\n      <th>4296</th>\n      <td>2022</td>\n      <td>Australian Grand Prix</td>\n      <td>Nicholas</td>\n      <td>Latifi</td>\n      <td>20</td>\n      <td>2</td>\n      <td>9</td>\n      <td>18.131438</td>\n      <td>18</td>\n      <td>19</td>\n      <td>-0.868562</td>\n      <td>-1</td>\n      <td>-4.57%</td>\n      <td>-5.26%</td>\n    </tr>\n    <tr>\n      <th>4257</th>\n      <td>2022</td>\n      <td>Bahrain Grand Prix</td>\n      <td>Charles</td>\n      <td>Leclerc</td>\n      <td>1</td>\n      <td>3</td>\n      <td>1</td>\n      <td>2.552214</td>\n      <td>1</td>\n      <td>1</td>\n      <td>1.552214</td>\n      <td>0</td>\n      <td>155.22%</td>\n      <td>0.0%</td>\n    </tr>\n    <tr>\n      <th>4256</th>\n      <td>2022</td>\n      <td>Bahrain Grand Prix</td>\n      <td>Carlos</td>\n      <td>Sainz</td>\n      <td>2</td>\n      <td>3</td>\n      <td>1</td>\n      <td>3.012689</td>\n      <td>2</td>\n      <td>3</td>\n      <td>0.012689</td>\n      <td>-1</td>\n      <td>0.42%</td>\n      <td>-33.33%</td>\n    </tr>\n    <tr>\n      <th>4242</th>\n      <td>2022</td>\n      <td>Bahrain Grand Prix</td>\n      <td>Lewis</td>\n      <td>Hamilton</td>\n      <td>3</td>\n      <td>3</td>\n      <td>2</td>\n      <td>4.329266</td>\n      <td>3</td>\n      <td>5</td>\n      <td>-0.670734</td>\n      <td>-2</td>\n      <td>-13.41%</td>\n      <td>-40.0%</td>\n    </tr>\n    <tr>\n      <th>4243</th>\n      <td>2022</td>\n      <td>Bahrain Grand Prix</td>\n      <td>George</td>\n      <td>Russell</td>\n      <td>4</td>\n      <td>3</td>\n      <td>2</td>\n      <td>4.789741</td>\n      <td>4</td>\n      <td>9</td>\n      <td>-4.210259</td>\n      <td>-5</td>\n      <td>-46.78%</td>\n      <td>-55.56%</td>\n    </tr>\n    <tr>\n      <th>4254</th>\n      <td>2022</td>\n      <td>Bahrain Grand Prix</td>\n      <td>Kevin</td>\n      <td>Magnussen</td>\n      <td>5</td>\n      <td>3</td>\n      <td>3</td>\n      <td>6.106318</td>\n      <td>5</td>\n      <td>7</td>\n      <td>-0.893682</td>\n      <td>-2</td>\n      <td>-12.77%</td>\n      <td>-28.57%</td>\n    </tr>\n    <tr>\n      <th>4252</th>\n      <td>2022</td>\n      <td>Bahrain Grand Prix</td>\n      <td>Valtteri</td>\n      <td>Bottas</td>\n      <td>6</td>\n      <td>3</td>\n      <td>4</td>\n      <td>7.422895</td>\n      <td>6</td>\n      <td>6</td>\n      <td>1.422895</td>\n      <td>0</td>\n      <td>23.71%</td>\n      <td>0.0%</td>\n    </tr>\n    <tr>\n      <th>4245</th>\n      <td>2022</td>\n      <td>Bahrain Grand Prix</td>\n      <td>Esteban</td>\n      <td>Ocon</td>\n      <td>7</td>\n      <td>3</td>\n      <td>5</td>\n      <td>8.739472</td>\n      <td>7</td>\n      <td>11</td>\n      <td>-2.260528</td>\n      <td>-4</td>\n      <td>-20.55%</td>\n      <td>-36.36%</td>\n    </tr>\n    <tr>\n      <th>4255</th>\n      <td>2022</td>\n      <td>Bahrain Grand Prix</td>\n      <td>Mick</td>\n      <td>Schumacher</td>\n      <td>11</td>\n      <td>2</td>\n      <td>3</td>\n      <td>8.850551</td>\n      <td>8</td>\n      <td>12</td>\n      <td>-3.149449</td>\n      <td>-4</td>\n      <td>-26.25%</td>\n      <td>-33.33%</td>\n    </tr>\n    <tr>\n      <th>4253</th>\n      <td>2022</td>\n      <td>Bahrain Grand Prix</td>\n      <td>Guanyu</td>\n      <td>Zhou</td>\n      <td>10</td>\n      <td>3</td>\n      <td>4</td>\n      <td>9.264794</td>\n      <td>9</td>\n      <td>15</td>\n      <td>-5.735206</td>\n      <td>-6</td>\n      <td>-38.23%</td>\n      <td>-40.0%</td>\n    </tr>\n    <tr>\n      <th>4244</th>\n      <td>2022</td>\n      <td>Bahrain Grand Prix</td>\n      <td>Fernando</td>\n      <td>Alonso</td>\n      <td>9</td>\n      <td>3</td>\n      <td>5</td>\n      <td>9.660422</td>\n      <td>10</td>\n      <td>8</td>\n      <td>1.660422</td>\n      <td>2</td>\n      <td>20.76%</td>\n      <td>25.0%</td>\n    </tr>\n    <tr>\n      <th>4259</th>\n      <td>2022</td>\n      <td>Bahrain Grand Prix</td>\n      <td>Yuki</td>\n      <td>Tsunoda</td>\n      <td>8</td>\n      <td>3</td>\n      <td>6</td>\n      <td>10.056050</td>\n      <td>11</td>\n      <td>16</td>\n      <td>-5.943950</td>\n      <td>-5</td>\n      <td>-37.15%</td>\n      <td>-31.25%</td>\n    </tr>\n    <tr>\n      <th>4247</th>\n      <td>2022</td>\n      <td>Bahrain Grand Prix</td>\n      <td>Lance</td>\n      <td>Stroll</td>\n      <td>12</td>\n      <td>3</td>\n      <td>7</td>\n      <td>12.754051</td>\n      <td>12</td>\n      <td>19</td>\n      <td>-6.245949</td>\n      <td>-7</td>\n      <td>-32.87%</td>\n      <td>-36.84%</td>\n    </tr>\n    <tr>\n      <th>4260</th>\n      <td>2022</td>\n      <td>Bahrain Grand Prix</td>\n      <td>Alexander</td>\n      <td>Albon</td>\n      <td>13</td>\n      <td>3</td>\n      <td>8</td>\n      <td>14.070628</td>\n      <td>13</td>\n      <td>14</td>\n      <td>0.070628</td>\n      <td>-1</td>\n      <td>0.5%</td>\n      <td>-7.14%</td>\n    </tr>\n    <tr>\n      <th>4246</th>\n      <td>2022</td>\n      <td>Bahrain Grand Prix</td>\n      <td>Nico</td>\n      <td>Hülkenberg</td>\n      <td>17</td>\n      <td>3</td>\n      <td>7</td>\n      <td>15.056424</td>\n      <td>14</td>\n      <td>17</td>\n      <td>-1.943576</td>\n      <td>-3</td>\n      <td>-11.43%</td>\n      <td>-17.65%</td>\n    </tr>\n    <tr>\n      <th>4250</th>\n      <td>2022</td>\n      <td>Bahrain Grand Prix</td>\n      <td>Daniel</td>\n      <td>Ricciardo</td>\n      <td>14</td>\n      <td>3</td>\n      <td>9</td>\n      <td>15.387205</td>\n      <td>15</td>\n      <td>18</td>\n      <td>-2.612795</td>\n      <td>-3</td>\n      <td>-14.52%</td>\n      <td>-16.67%</td>\n    </tr>\n    <tr>\n      <th>4261</th>\n      <td>2022</td>\n      <td>Bahrain Grand Prix</td>\n      <td>Nicholas</td>\n      <td>Latifi</td>\n      <td>16</td>\n      <td>3</td>\n      <td>8</td>\n      <td>15.452052</td>\n      <td>16</td>\n      <td>20</td>\n      <td>-4.547948</td>\n      <td>-4</td>\n      <td>-22.74%</td>\n      <td>-20.0%</td>\n    </tr>\n    <tr>\n      <th>4258</th>\n      <td>2022</td>\n      <td>Bahrain Grand Prix</td>\n      <td>Pierre</td>\n      <td>Gasly</td>\n      <td>20</td>\n      <td>2</td>\n      <td>6</td>\n      <td>15.563130</td>\n      <td>17</td>\n      <td>10</td>\n      <td>5.563130</td>\n      <td>7</td>\n      <td>55.63%</td>\n      <td>70.0%</td>\n    </tr>\n    <tr>\n      <th>4251</th>\n      <td>2022</td>\n      <td>Bahrain Grand Prix</td>\n      <td>Lando</td>\n      <td>Norris</td>\n      <td>15</td>\n      <td>3</td>\n      <td>9</td>\n      <td>15.847680</td>\n      <td>18</td>\n      <td>13</td>\n      <td>2.847680</td>\n      <td>5</td>\n      <td>21.91%</td>\n      <td>38.46%</td>\n    </tr>\n    <tr>\n      <th>4248</th>\n      <td>2022</td>\n      <td>Bahrain Grand Prix</td>\n      <td>Sergio</td>\n      <td>Pérez</td>\n      <td>18</td>\n      <td>3</td>\n      <td>10</td>\n      <td>18.085206</td>\n      <td>19</td>\n      <td>4</td>\n      <td>14.085206</td>\n      <td>15</td>\n      <td>352.13%</td>\n      <td>375.0%</td>\n    </tr>\n    <tr>\n      <th>4249</th>\n      <td>2022</td>\n      <td>Bahrain Grand Prix</td>\n      <td>Max</td>\n      <td>Verstappen</td>\n      <td>19</td>\n      <td>3</td>\n      <td>10</td>\n      <td>18.545681</td>\n      <td>20</td>\n      <td>2</td>\n      <td>16.545681</td>\n      <td>18</td>\n      <td>827.28%</td>\n      <td>900.0%</td>\n    </tr>\n    <tr>\n      <th>4276</th>\n      <td>2022</td>\n      <td>Saudi Arabian Grand Prix</td>\n      <td>Charles</td>\n      <td>Leclerc</td>\n      <td>1</td>\n      <td>1</td>\n      <td>1</td>\n      <td>2.514984</td>\n      <td>1</td>\n      <td>2</td>\n      <td>0.514984</td>\n      <td>-1</td>\n      <td>25.75%</td>\n      <td>-50.0%</td>\n    </tr>\n    <tr>\n      <th>4275</th>\n      <td>2022</td>\n      <td>Saudi Arabian Grand Prix</td>\n      <td>Carlos</td>\n      <td>Sainz</td>\n      <td>2</td>\n      <td>1</td>\n      <td>1</td>\n      <td>2.975459</td>\n      <td>2</td>\n      <td>3</td>\n      <td>-0.024541</td>\n      <td>-1</td>\n      <td>-0.82%</td>\n      <td>-33.33%</td>\n    </tr>\n    <tr>\n      <th>4263</th>\n      <td>2022</td>\n      <td>Saudi Arabian Grand Prix</td>\n      <td>George</td>\n      <td>Russell</td>\n      <td>4</td>\n      <td>1</td>\n      <td>2</td>\n      <td>4.752511</td>\n      <td>3</td>\n      <td>6</td>\n      <td>-1.247489</td>\n      <td>-3</td>\n      <td>-20.79%</td>\n      <td>-50.0%</td>\n    </tr>\n    <tr>\n      <th>4269</th>\n      <td>2022</td>\n      <td>Saudi Arabian Grand Prix</td>\n      <td>Max</td>\n      <td>Verstappen</td>\n      <td>3</td>\n      <td>1</td>\n      <td>3</td>\n      <td>5.148139</td>\n      <td>4</td>\n      <td>4</td>\n      <td>1.148139</td>\n      <td>0</td>\n      <td>28.7%</td>\n      <td>0.0%</td>\n    </tr>\n    <tr>\n      <th>4262</th>\n      <td>2022</td>\n      <td>Saudi Arabian Grand Prix</td>\n      <td>Lewis</td>\n      <td>Hamilton</td>\n      <td>5</td>\n      <td>1</td>\n      <td>2</td>\n      <td>5.212986</td>\n      <td>5</td>\n      <td>16</td>\n      <td>-10.787014</td>\n      <td>-11</td>\n      <td>-67.42%</td>\n      <td>-68.75%</td>\n    </tr>\n    <tr>\n      <th>4268</th>\n      <td>2022</td>\n      <td>Saudi Arabian Grand Prix</td>\n      <td>Sergio</td>\n      <td>Pérez</td>\n      <td>7</td>\n      <td>1</td>\n      <td>3</td>\n      <td>6.990037</td>\n      <td>6</td>\n      <td>1</td>\n      <td>5.990037</td>\n      <td>5</td>\n      <td>599.0%</td>\n      <td>500.0%</td>\n    </tr>\n    <tr>\n      <th>4265</th>\n      <td>2022</td>\n      <td>Saudi Arabian Grand Prix</td>\n      <td>Esteban</td>\n      <td>Ocon</td>\n      <td>6</td>\n      <td>1</td>\n      <td>4</td>\n      <td>7.385665</td>\n      <td>7</td>\n      <td>5</td>\n      <td>2.385665</td>\n      <td>2</td>\n      <td>47.71%</td>\n      <td>40.0%</td>\n    </tr>\n    <tr>\n      <th>4274</th>\n      <td>2022</td>\n      <td>Saudi Arabian Grand Prix</td>\n      <td>Kevin</td>\n      <td>Magnussen</td>\n      <td>8</td>\n      <td>1</td>\n      <td>5</td>\n      <td>9.162717</td>\n      <td>8</td>\n      <td>10</td>\n      <td>-0.837283</td>\n      <td>-2</td>\n      <td>-8.37%</td>\n      <td>-20.0%</td>\n    </tr>\n    <tr>\n      <th>4272</th>\n      <td>2022</td>\n      <td>Saudi Arabian Grand Prix</td>\n      <td>Valtteri</td>\n      <td>Bottas</td>\n      <td>9</td>\n      <td>2</td>\n      <td>6</td>\n      <td>10.497909</td>\n      <td>9</td>\n      <td>8</td>\n      <td>2.497909</td>\n      <td>1</td>\n      <td>31.22%</td>\n      <td>12.5%</td>\n    </tr>\n    <tr>\n      <th>4264</th>\n      <td>2022</td>\n      <td>Saudi Arabian Grand Prix</td>\n      <td>Fernando</td>\n      <td>Alonso</td>\n      <td>13</td>\n      <td>1</td>\n      <td>4</td>\n      <td>10.608988</td>\n      <td>10</td>\n      <td>7</td>\n      <td>3.608988</td>\n      <td>3</td>\n      <td>51.56%</td>\n      <td>42.86%</td>\n    </tr>\n    <tr>\n      <th>4271</th>\n      <td>2022</td>\n      <td>Saudi Arabian Grand Prix</td>\n      <td>Lando</td>\n      <td>Norris</td>\n      <td>10</td>\n      <td>1</td>\n      <td>8</td>\n      <td>12.651974</td>\n      <td>11</td>\n      <td>11</td>\n      <td>1.651974</td>\n      <td>0</td>\n      <td>15.02%</td>\n      <td>0.0%</td>\n    </tr>\n    <tr>\n      <th>4277</th>\n      <td>2022</td>\n      <td>Saudi Arabian Grand Prix</td>\n      <td>Pierre</td>\n      <td>Gasly</td>\n      <td>12</td>\n      <td>1</td>\n      <td>7</td>\n      <td>12.716821</td>\n      <td>12</td>\n      <td>9</td>\n      <td>3.716821</td>\n      <td>3</td>\n      <td>41.3%</td>\n      <td>33.33%</td>\n    </tr>\n    <tr>\n      <th>4273</th>\n      <td>2022</td>\n      <td>Saudi Arabian Grand Prix</td>\n      <td>Guanyu</td>\n      <td>Zhou</td>\n      <td>14</td>\n      <td>2</td>\n      <td>6</td>\n      <td>12.800283</td>\n      <td>13</td>\n      <td>13</td>\n      <td>-0.199717</td>\n      <td>0</td>\n      <td>-1.54%</td>\n      <td>0.0%</td>\n    </tr>\n    <tr>\n      <th>4267</th>\n      <td>2022</td>\n      <td>Saudi Arabian Grand Prix</td>\n      <td>Lance</td>\n      <td>Stroll</td>\n      <td>16</td>\n      <td>1</td>\n      <td>9</td>\n      <td>16.270925</td>\n      <td>14</td>\n      <td>15</td>\n      <td>1.270925</td>\n      <td>-1</td>\n      <td>8.47%</td>\n      <td>-6.67%</td>\n    </tr>\n    <tr>\n      <th>4266</th>\n      <td>2022</td>\n      <td>Saudi Arabian Grand Prix</td>\n      <td>Nico</td>\n      <td>Hülkenberg</td>\n      <td>17</td>\n      <td>1</td>\n      <td>9</td>\n      <td>16.731399</td>\n      <td>15</td>\n      <td>18</td>\n      <td>-1.268601</td>\n      <td>-3</td>\n      <td>-7.05%</td>\n      <td>-16.67%</td>\n    </tr>\n    <tr>\n      <th>4270</th>\n      <td>2022</td>\n      <td>Saudi Arabian Grand Prix</td>\n      <td>Daniel</td>\n      <td>Ricciardo</td>\n      <td>19</td>\n      <td>1</td>\n      <td>8</td>\n      <td>16.796246</td>\n      <td>16</td>\n      <td>12</td>\n      <td>4.796246</td>\n      <td>4</td>\n      <td>39.97%</td>\n      <td>33.33%</td>\n    </tr>\n    <tr>\n      <th>4278</th>\n      <td>2022</td>\n      <td>Saudi Arabian Grand Prix</td>\n      <td>Alexander</td>\n      <td>Albon</td>\n      <td>18</td>\n      <td>1</td>\n      <td>10</td>\n      <td>18.047977</td>\n      <td>17</td>\n      <td>17</td>\n      <td>1.047977</td>\n      <td>0</td>\n      <td>6.16%</td>\n      <td>0.0%</td>\n    </tr>\n  </tbody>\n</table>\n</div>"
     },
     "execution_count": 26,
     "metadata": {},
     "output_type": "execute_result"
    }
   ],
   "source": [
    "X_test"
   ],
   "metadata": {
    "collapsed": false,
    "pycharm": {
     "name": "#%%\n"
    }
   }
  },
  {
   "cell_type": "markdown",
   "source": [
    "The prediction is done. From the prediciton, ranking, difference and percentage difference we can see that the prediction is decent. Formula 1 is a sport with a lot of important details and human errors. This makes it hard to exactly predict the results. This shows when the precentage_difference is extremely high. Then I should look into the race to analyse what happened.\n",
    "The position and position_constructor are alternating a lot in the beginning of the season. We can see this for Max Verstappen and Red Bull. He started the season either winning or DNF'ing (Did not finish by a problem with his car). I expect that the prediction will get better, further on in the season as the points will be more spread out.\n",
    "\n",
    "The prediction doesn't go below 2 and above 18. because of this, the difference is in those position bigger than in the middle."
   ],
   "metadata": {
    "collapsed": false,
    "pycharm": {
     "name": "#%% md\n"
    }
   }
  },
  {
   "cell_type": "markdown",
   "source": [
    "## Compare with sklearn.linear_model -  Linear Regression\n",
    "If delta is positive, my model was closer to the real value. If delta is negative, the sklearn model was closer away from the real value."
   ],
   "metadata": {
    "collapsed": false,
    "pycharm": {
     "name": "#%% md\n"
    }
   }
  },
  {
   "cell_type": "code",
   "execution_count": 27,
   "outputs": [
    {
     "name": "stdout",
     "output_type": "stream",
     "text": [
      "linear model coeff (w): [0.         0.46047464 0.00195947 0.40552228]\n",
      "sklearn model was closer to the real value 11 times own model was closer to the real value 44 times\n"
     ]
    },
    {
     "data": {
      "text/plain": "    skl_prediction  own_prediction  actual  difference_skl  difference_own  \\\n0         4.329266        2.514984       1        3.329266        1.514984   \n1         4.789741        3.831562       6       -1.210259       -2.168438   \n2         9.660422        5.212986       5        4.660422        0.212986   \n3         8.739472        5.608613       3        5.739472        2.608613   \n4        15.056424        6.529563       2       13.056424        4.529563   \n5        12.754051        8.306615       4        8.754051        4.306615   \n6        18.085206        8.702243       8       10.085206        0.702243   \n7        18.545681        9.688039       7       11.545681        2.688039   \n8        15.387205       10.939769      12        3.387205       -1.060231   \n9        15.847680       11.335397      17       -1.152320       -5.664603   \n10        7.422895       11.944180      10       -2.577105        1.944180   \n11        9.264794       13.242142      14       -4.735206       -0.757858   \n12        6.106318       13.572924      11       -4.893682        2.572924   \n13        8.850551       14.033398      13       -4.149449        1.033398   \n14        3.012689       15.019194      15      -11.987311        0.019194   \n15        2.552214       16.270925      16      -13.447786        0.270925   \n16       15.563130       18.085206      20       -4.436870       -1.914794   \n17       10.056050       18.131438      19       -8.943950       -0.868562   \n18       14.070628        2.552214       1       13.070628        1.552214   \n19       15.452052        3.012689       3       12.452052        0.012689   \n20        5.212986        4.329266       5        0.212986       -0.670734   \n21        4.752511        4.789741       9       -4.247489       -4.210259   \n22       10.608988        6.106318       7        3.608988       -0.893682   \n23        7.385665        7.422895       6        1.385665        1.422895   \n24       16.731399        8.739472      11        5.731399       -2.260528   \n25       16.270925        8.850551      12        4.270925       -3.149449   \n26        6.990037        9.264794      15       -8.009963       -5.735206   \n27        5.148139        9.660422       8       -2.851861        1.660422   \n28       16.796246       10.056050      16        0.796246       -5.943950   \n29       12.651974       12.754051      19       -6.348026       -6.245949   \n30       10.497909       14.070628      14       -3.502091        0.070628   \n31       12.800283       15.056424      17       -4.199717       -1.943576   \n32        9.162717       15.387205      18       -8.837283       -2.612795   \n33        2.975459       15.452052      20      -17.024541       -4.547948   \n34        2.514984       15.563130      10       -7.485016        5.563130   \n35       12.716821       15.847680      13       -0.283179        2.847680   \n36       18.047977       18.085206       4       14.047977       14.085206   \n37        5.212986       18.545681       2        3.212986       16.545681   \n38        3.831562        2.514984       2        1.831562        0.514984   \n39       11.944180        2.975459       3        8.944180       -0.024541   \n40        8.702243        4.752511       6        2.702243       -1.247489   \n41        5.608613        5.148139       4        1.608613        1.148139   \n42        6.529563        5.212986      16       -9.470437      -10.787014   \n43        9.688039        6.990037       1        8.688039        5.990037   \n44        8.306615        7.385665       5        3.306615        2.385665   \n45       10.939769        9.162717      10        0.939769       -0.837283   \n46       13.242142       10.497909       8        5.242142        2.497909   \n47       11.335397       10.608988       7        4.335397        3.608988   \n48       15.019194       12.651974      11        4.019194        1.651974   \n49       18.085206       12.716821       9        9.085206        3.716821   \n50       13.572924       12.800283      13        0.572924       -0.199717   \n51       14.033398       16.270925      15       -0.966602        1.270925   \n52        2.514984       16.731399      18      -15.485016       -1.268601   \n53       16.270925       16.796246      12        4.270925        4.796246   \n54       18.131438       18.047977      17        1.131438        1.047977   \n\n        delta  \n0    1.814282  \n1   -0.958179  \n2    4.447436  \n3    3.130859  \n4    8.526861  \n5    4.447436  \n6    9.382964  \n7    8.857643  \n8    2.326974  \n9   -4.512283  \n10   0.632925  \n11   3.977348  \n12   2.320758  \n13   3.116051  \n14  11.968117  \n15  13.176861  \n16   2.522076  \n17   8.075388  \n18  11.518414  \n19  12.439363  \n20  -0.457748  \n21   0.037230  \n22   2.715306  \n23  -0.037230  \n24   3.470872  \n25   1.121476  \n26   2.274756  \n27   1.191439  \n28  -5.147704  \n29   0.102077  \n30   3.431463  \n31   2.256141  \n32   6.224488  \n33  12.476593  \n34   1.921885  \n35  -2.564501  \n36  -0.037230  \n37 -13.332696  \n38   1.316577  \n39   8.919639  \n40   1.454753  \n41   0.460475  \n42  -1.316577  \n43   2.698001  \n44   0.920949  \n45   0.102486  \n46   2.744233  \n47   0.726409  \n48   2.367220  \n49   5.368386  \n50   0.373206  \n51  -0.304323  \n52  14.216415  \n53  -0.525321  \n54   0.083462  ",
      "text/html": "<div>\n<style scoped>\n    .dataframe tbody tr th:only-of-type {\n        vertical-align: middle;\n    }\n\n    .dataframe tbody tr th {\n        vertical-align: top;\n    }\n\n    .dataframe thead th {\n        text-align: right;\n    }\n</style>\n<table border=\"1\" class=\"dataframe\">\n  <thead>\n    <tr style=\"text-align: right;\">\n      <th></th>\n      <th>skl_prediction</th>\n      <th>own_prediction</th>\n      <th>actual</th>\n      <th>difference_skl</th>\n      <th>difference_own</th>\n      <th>delta</th>\n    </tr>\n  </thead>\n  <tbody>\n    <tr>\n      <th>0</th>\n      <td>4.329266</td>\n      <td>2.514984</td>\n      <td>1</td>\n      <td>3.329266</td>\n      <td>1.514984</td>\n      <td>1.814282</td>\n    </tr>\n    <tr>\n      <th>1</th>\n      <td>4.789741</td>\n      <td>3.831562</td>\n      <td>6</td>\n      <td>-1.210259</td>\n      <td>-2.168438</td>\n      <td>-0.958179</td>\n    </tr>\n    <tr>\n      <th>2</th>\n      <td>9.660422</td>\n      <td>5.212986</td>\n      <td>5</td>\n      <td>4.660422</td>\n      <td>0.212986</td>\n      <td>4.447436</td>\n    </tr>\n    <tr>\n      <th>3</th>\n      <td>8.739472</td>\n      <td>5.608613</td>\n      <td>3</td>\n      <td>5.739472</td>\n      <td>2.608613</td>\n      <td>3.130859</td>\n    </tr>\n    <tr>\n      <th>4</th>\n      <td>15.056424</td>\n      <td>6.529563</td>\n      <td>2</td>\n      <td>13.056424</td>\n      <td>4.529563</td>\n      <td>8.526861</td>\n    </tr>\n    <tr>\n      <th>5</th>\n      <td>12.754051</td>\n      <td>8.306615</td>\n      <td>4</td>\n      <td>8.754051</td>\n      <td>4.306615</td>\n      <td>4.447436</td>\n    </tr>\n    <tr>\n      <th>6</th>\n      <td>18.085206</td>\n      <td>8.702243</td>\n      <td>8</td>\n      <td>10.085206</td>\n      <td>0.702243</td>\n      <td>9.382964</td>\n    </tr>\n    <tr>\n      <th>7</th>\n      <td>18.545681</td>\n      <td>9.688039</td>\n      <td>7</td>\n      <td>11.545681</td>\n      <td>2.688039</td>\n      <td>8.857643</td>\n    </tr>\n    <tr>\n      <th>8</th>\n      <td>15.387205</td>\n      <td>10.939769</td>\n      <td>12</td>\n      <td>3.387205</td>\n      <td>-1.060231</td>\n      <td>2.326974</td>\n    </tr>\n    <tr>\n      <th>9</th>\n      <td>15.847680</td>\n      <td>11.335397</td>\n      <td>17</td>\n      <td>-1.152320</td>\n      <td>-5.664603</td>\n      <td>-4.512283</td>\n    </tr>\n    <tr>\n      <th>10</th>\n      <td>7.422895</td>\n      <td>11.944180</td>\n      <td>10</td>\n      <td>-2.577105</td>\n      <td>1.944180</td>\n      <td>0.632925</td>\n    </tr>\n    <tr>\n      <th>11</th>\n      <td>9.264794</td>\n      <td>13.242142</td>\n      <td>14</td>\n      <td>-4.735206</td>\n      <td>-0.757858</td>\n      <td>3.977348</td>\n    </tr>\n    <tr>\n      <th>12</th>\n      <td>6.106318</td>\n      <td>13.572924</td>\n      <td>11</td>\n      <td>-4.893682</td>\n      <td>2.572924</td>\n      <td>2.320758</td>\n    </tr>\n    <tr>\n      <th>13</th>\n      <td>8.850551</td>\n      <td>14.033398</td>\n      <td>13</td>\n      <td>-4.149449</td>\n      <td>1.033398</td>\n      <td>3.116051</td>\n    </tr>\n    <tr>\n      <th>14</th>\n      <td>3.012689</td>\n      <td>15.019194</td>\n      <td>15</td>\n      <td>-11.987311</td>\n      <td>0.019194</td>\n      <td>11.968117</td>\n    </tr>\n    <tr>\n      <th>15</th>\n      <td>2.552214</td>\n      <td>16.270925</td>\n      <td>16</td>\n      <td>-13.447786</td>\n      <td>0.270925</td>\n      <td>13.176861</td>\n    </tr>\n    <tr>\n      <th>16</th>\n      <td>15.563130</td>\n      <td>18.085206</td>\n      <td>20</td>\n      <td>-4.436870</td>\n      <td>-1.914794</td>\n      <td>2.522076</td>\n    </tr>\n    <tr>\n      <th>17</th>\n      <td>10.056050</td>\n      <td>18.131438</td>\n      <td>19</td>\n      <td>-8.943950</td>\n      <td>-0.868562</td>\n      <td>8.075388</td>\n    </tr>\n    <tr>\n      <th>18</th>\n      <td>14.070628</td>\n      <td>2.552214</td>\n      <td>1</td>\n      <td>13.070628</td>\n      <td>1.552214</td>\n      <td>11.518414</td>\n    </tr>\n    <tr>\n      <th>19</th>\n      <td>15.452052</td>\n      <td>3.012689</td>\n      <td>3</td>\n      <td>12.452052</td>\n      <td>0.012689</td>\n      <td>12.439363</td>\n    </tr>\n    <tr>\n      <th>20</th>\n      <td>5.212986</td>\n      <td>4.329266</td>\n      <td>5</td>\n      <td>0.212986</td>\n      <td>-0.670734</td>\n      <td>-0.457748</td>\n    </tr>\n    <tr>\n      <th>21</th>\n      <td>4.752511</td>\n      <td>4.789741</td>\n      <td>9</td>\n      <td>-4.247489</td>\n      <td>-4.210259</td>\n      <td>0.037230</td>\n    </tr>\n    <tr>\n      <th>22</th>\n      <td>10.608988</td>\n      <td>6.106318</td>\n      <td>7</td>\n      <td>3.608988</td>\n      <td>-0.893682</td>\n      <td>2.715306</td>\n    </tr>\n    <tr>\n      <th>23</th>\n      <td>7.385665</td>\n      <td>7.422895</td>\n      <td>6</td>\n      <td>1.385665</td>\n      <td>1.422895</td>\n      <td>-0.037230</td>\n    </tr>\n    <tr>\n      <th>24</th>\n      <td>16.731399</td>\n      <td>8.739472</td>\n      <td>11</td>\n      <td>5.731399</td>\n      <td>-2.260528</td>\n      <td>3.470872</td>\n    </tr>\n    <tr>\n      <th>25</th>\n      <td>16.270925</td>\n      <td>8.850551</td>\n      <td>12</td>\n      <td>4.270925</td>\n      <td>-3.149449</td>\n      <td>1.121476</td>\n    </tr>\n    <tr>\n      <th>26</th>\n      <td>6.990037</td>\n      <td>9.264794</td>\n      <td>15</td>\n      <td>-8.009963</td>\n      <td>-5.735206</td>\n      <td>2.274756</td>\n    </tr>\n    <tr>\n      <th>27</th>\n      <td>5.148139</td>\n      <td>9.660422</td>\n      <td>8</td>\n      <td>-2.851861</td>\n      <td>1.660422</td>\n      <td>1.191439</td>\n    </tr>\n    <tr>\n      <th>28</th>\n      <td>16.796246</td>\n      <td>10.056050</td>\n      <td>16</td>\n      <td>0.796246</td>\n      <td>-5.943950</td>\n      <td>-5.147704</td>\n    </tr>\n    <tr>\n      <th>29</th>\n      <td>12.651974</td>\n      <td>12.754051</td>\n      <td>19</td>\n      <td>-6.348026</td>\n      <td>-6.245949</td>\n      <td>0.102077</td>\n    </tr>\n    <tr>\n      <th>30</th>\n      <td>10.497909</td>\n      <td>14.070628</td>\n      <td>14</td>\n      <td>-3.502091</td>\n      <td>0.070628</td>\n      <td>3.431463</td>\n    </tr>\n    <tr>\n      <th>31</th>\n      <td>12.800283</td>\n      <td>15.056424</td>\n      <td>17</td>\n      <td>-4.199717</td>\n      <td>-1.943576</td>\n      <td>2.256141</td>\n    </tr>\n    <tr>\n      <th>32</th>\n      <td>9.162717</td>\n      <td>15.387205</td>\n      <td>18</td>\n      <td>-8.837283</td>\n      <td>-2.612795</td>\n      <td>6.224488</td>\n    </tr>\n    <tr>\n      <th>33</th>\n      <td>2.975459</td>\n      <td>15.452052</td>\n      <td>20</td>\n      <td>-17.024541</td>\n      <td>-4.547948</td>\n      <td>12.476593</td>\n    </tr>\n    <tr>\n      <th>34</th>\n      <td>2.514984</td>\n      <td>15.563130</td>\n      <td>10</td>\n      <td>-7.485016</td>\n      <td>5.563130</td>\n      <td>1.921885</td>\n    </tr>\n    <tr>\n      <th>35</th>\n      <td>12.716821</td>\n      <td>15.847680</td>\n      <td>13</td>\n      <td>-0.283179</td>\n      <td>2.847680</td>\n      <td>-2.564501</td>\n    </tr>\n    <tr>\n      <th>36</th>\n      <td>18.047977</td>\n      <td>18.085206</td>\n      <td>4</td>\n      <td>14.047977</td>\n      <td>14.085206</td>\n      <td>-0.037230</td>\n    </tr>\n    <tr>\n      <th>37</th>\n      <td>5.212986</td>\n      <td>18.545681</td>\n      <td>2</td>\n      <td>3.212986</td>\n      <td>16.545681</td>\n      <td>-13.332696</td>\n    </tr>\n    <tr>\n      <th>38</th>\n      <td>3.831562</td>\n      <td>2.514984</td>\n      <td>2</td>\n      <td>1.831562</td>\n      <td>0.514984</td>\n      <td>1.316577</td>\n    </tr>\n    <tr>\n      <th>39</th>\n      <td>11.944180</td>\n      <td>2.975459</td>\n      <td>3</td>\n      <td>8.944180</td>\n      <td>-0.024541</td>\n      <td>8.919639</td>\n    </tr>\n    <tr>\n      <th>40</th>\n      <td>8.702243</td>\n      <td>4.752511</td>\n      <td>6</td>\n      <td>2.702243</td>\n      <td>-1.247489</td>\n      <td>1.454753</td>\n    </tr>\n    <tr>\n      <th>41</th>\n      <td>5.608613</td>\n      <td>5.148139</td>\n      <td>4</td>\n      <td>1.608613</td>\n      <td>1.148139</td>\n      <td>0.460475</td>\n    </tr>\n    <tr>\n      <th>42</th>\n      <td>6.529563</td>\n      <td>5.212986</td>\n      <td>16</td>\n      <td>-9.470437</td>\n      <td>-10.787014</td>\n      <td>-1.316577</td>\n    </tr>\n    <tr>\n      <th>43</th>\n      <td>9.688039</td>\n      <td>6.990037</td>\n      <td>1</td>\n      <td>8.688039</td>\n      <td>5.990037</td>\n      <td>2.698001</td>\n    </tr>\n    <tr>\n      <th>44</th>\n      <td>8.306615</td>\n      <td>7.385665</td>\n      <td>5</td>\n      <td>3.306615</td>\n      <td>2.385665</td>\n      <td>0.920949</td>\n    </tr>\n    <tr>\n      <th>45</th>\n      <td>10.939769</td>\n      <td>9.162717</td>\n      <td>10</td>\n      <td>0.939769</td>\n      <td>-0.837283</td>\n      <td>0.102486</td>\n    </tr>\n    <tr>\n      <th>46</th>\n      <td>13.242142</td>\n      <td>10.497909</td>\n      <td>8</td>\n      <td>5.242142</td>\n      <td>2.497909</td>\n      <td>2.744233</td>\n    </tr>\n    <tr>\n      <th>47</th>\n      <td>11.335397</td>\n      <td>10.608988</td>\n      <td>7</td>\n      <td>4.335397</td>\n      <td>3.608988</td>\n      <td>0.726409</td>\n    </tr>\n    <tr>\n      <th>48</th>\n      <td>15.019194</td>\n      <td>12.651974</td>\n      <td>11</td>\n      <td>4.019194</td>\n      <td>1.651974</td>\n      <td>2.367220</td>\n    </tr>\n    <tr>\n      <th>49</th>\n      <td>18.085206</td>\n      <td>12.716821</td>\n      <td>9</td>\n      <td>9.085206</td>\n      <td>3.716821</td>\n      <td>5.368386</td>\n    </tr>\n    <tr>\n      <th>50</th>\n      <td>13.572924</td>\n      <td>12.800283</td>\n      <td>13</td>\n      <td>0.572924</td>\n      <td>-0.199717</td>\n      <td>0.373206</td>\n    </tr>\n    <tr>\n      <th>51</th>\n      <td>14.033398</td>\n      <td>16.270925</td>\n      <td>15</td>\n      <td>-0.966602</td>\n      <td>1.270925</td>\n      <td>-0.304323</td>\n    </tr>\n    <tr>\n      <th>52</th>\n      <td>2.514984</td>\n      <td>16.731399</td>\n      <td>18</td>\n      <td>-15.485016</td>\n      <td>-1.268601</td>\n      <td>14.216415</td>\n    </tr>\n    <tr>\n      <th>53</th>\n      <td>16.270925</td>\n      <td>16.796246</td>\n      <td>12</td>\n      <td>4.270925</td>\n      <td>4.796246</td>\n      <td>-0.525321</td>\n    </tr>\n    <tr>\n      <th>54</th>\n      <td>18.131438</td>\n      <td>18.047977</td>\n      <td>17</td>\n      <td>1.131438</td>\n      <td>1.047977</td>\n      <td>0.083462</td>\n    </tr>\n  </tbody>\n</table>\n</div>"
     },
     "execution_count": 27,
     "metadata": {},
     "output_type": "execute_result"
    }
   ],
   "source": [
    "from sklearn.linear_model import LinearRegression\n",
    "linreg = LinearRegression().fit(X_norm_train, Y_norm_train['position_finish'])\n",
    "print('linear model coeff (w): {}'.format(linreg.coef_))\n",
    "sklearn_pred = denormalize(linreg.predict(X_norm_test),np.min(X_test_filtered['position_qualy']), np.max(X_test_filtered['position_qualy']))\n",
    "#add the prediction to sklearn_pred\n",
    "sklearn_pred = pd.DataFrame(sklearn_pred, columns=['skl_prediction'])\n",
    "sklearn_pred['own_prediction'] = X_test['prediction'].tolist()\n",
    "sklearn_pred['actual'] = X_test['actual'].tolist()\n",
    "sklearn_pred['difference_skl'] = sklearn_pred['skl_prediction'] - sklearn_pred['actual']\n",
    "sklearn_pred['difference_own'] = sklearn_pred['own_prediction'] - sklearn_pred['actual']\n",
    "sklearn_pred['delta'] = np.abs(sklearn_pred['difference_skl']) - np.abs(sklearn_pred['difference_own'])\n",
    "skl_count = 0\n",
    "own_count = 0\n",
    "#if sklearn_pred['delta'] is bigger than zero, skl_count +=1\n",
    "for i in range(len(sklearn_pred)):\n",
    "    if sklearn_pred['delta'][i] < 0:\n",
    "        skl_count +=1\n",
    "    if sklearn_pred['delta'][i] > 0:\n",
    "        own_count +=1\n",
    "print('sklearn model was closer to the real value {} times'.format(skl_count), 'own model was closer to the real value {} times'.format(own_count))\n",
    "sklearn_pred"
   ],
   "metadata": {
    "collapsed": false,
    "pycharm": {
     "name": "#%%\n"
    }
   }
  },
  {
   "cell_type": "markdown",
   "source": [
    " the 55 data points, the sklearn model was closer to the real value 11 times while my own model was closer to the real value 44 times.\n",
    "As earlier stated, the further in the season, the better the prediction. This is also clear in the delta values. test"
   ],
   "metadata": {
    "collapsed": false,
    "pycharm": {
     "name": "#%% md\n"
    }
   }
  },
  {
   "cell_type": "markdown",
   "source": [
    "# Conclusion\n",
    "I started this project hoping to fully simulate the F1 season. By choosing pitstops, the drivers and the team scores, I wasn't able to predict the results for races that haven't been completed. It makes sense as the scores will change (which I could complete with the predicted ranking) but I can't predict the amount of pitstops. In the new regulations, they use new 18 inch tyres which might change the amount of pitstops. If I would take the average over the years, that also wouldn't be fair because an outlier would change the data a lot. New circuits wouldn't have a lot of data.  Tyre management is a very important part of Formula 1 and since some drivers changed teams and others driver are for the first time in F1 and much more. It wouldn't be a trusted feature."
   ],
   "metadata": {
    "collapsed": false,
    "pycharm": {
     "name": "#%% md\n"
    }
   }
  },
  {
   "cell_type": "markdown",
   "source": [
    "## Sources\n",
    "- [Formula 1: The Complete Guide to the Season](https://www.formula1.com/en/results.html)\n",
    "- [Formula 1 Race Predictor](https://towardsdatascience.com/formula-1-race-predictor-5d4bfae887da)\n",
    "- [Multivariate Linear Regression in Python Without Scikit-Learn using Normal Equation](https://medium.com/@siddhantagarwal99/multivariate-linear-regression-in-python-without-scikit-learn-using-normal-equation-bc3ab4334f11)"
   ],
   "metadata": {
    "collapsed": false,
    "pycharm": {
     "name": "#%% md\n"
    }
   }
  },
  {
   "cell_type": "markdown",
   "source": [],
   "metadata": {
    "collapsed": false,
    "pycharm": {
     "name": "#%% md\n"
    }
   }
  }
 ],
 "metadata": {
  "kernelspec": {
   "name": "pycharm-9d67c0fc",
   "language": "python",
   "display_name": "PyCharm (Intelligente ICT-systemen)"
  },
  "language_info": {
   "codemirror_mode": {
    "name": "ipython",
    "version": 2
   },
   "file_extension": ".py",
   "mimetype": "text/x-python",
   "name": "python",
   "nbconvert_exporter": "python",
   "pygments_lexer": "ipython2",
   "version": "2.7.6"
  }
 },
 "nbformat": 4,
 "nbformat_minor": 0
}